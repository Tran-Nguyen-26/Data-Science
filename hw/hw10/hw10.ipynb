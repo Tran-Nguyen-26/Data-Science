{
 "cells": [
  {
   "cell_type": "code",
   "execution_count": 2,
   "id": "cell-hw10-0",
   "metadata": {
    "deletable": false,
    "editable": false
   },
   "outputs": [],
   "source": [
    "# Initialize Otter\n",
    "import otter\n",
    "grader = otter.Notebook(\"hw10.ipynb\")"
   ]
  },
  {
   "cell_type": "markdown",
   "id": "cell-hw10-1",
   "metadata": {},
   "source": [
    "# Homework 10: Linear Regression"
   ]
  },
  {
   "cell_type": "markdown",
   "id": "cell-hw10-2",
   "metadata": {},
   "source": [
    "**Helpful Resource:**\n",
    "\n",
    "- [Python Reference](http://data8.org/sp22/python-reference.html): Cheat sheet of helpful array & table methods used in Data 8!\n",
    "\n",
    "**Recommended Readings**: \n",
    "\n",
    "* [The Regression Line](https://www.inferentialthinking.com/chapters/15/2/Regression_Line.html)\n",
    "* [Method of Least Squares](https://www.inferentialthinking.com/chapters/15/3/Method_of_Least_Squares.html)\n",
    "* [Least Squares Regression](https://www.inferentialthinking.com/chapters/15/4/Least_Squares_Regression.html)"
   ]
  },
  {
   "cell_type": "markdown",
   "id": "cell-hw10-3",
   "metadata": {},
   "source": [
    "Please complete this notebook by filling in the cells provided. Before you begin, execute the following cell to setup the notebook by importing some helpful libraries. Each time you start your server, you will need to execute this cell again.\n",
    "\n",
    "For all problems that you must write explanations and sentences for, you **must** provide your answer in the designated space. **Moreover, throughout this homework and all future ones, please be sure to not re-assign variables throughout the notebook!** For example, if you use `max_temperature` in your answer to one question, do not reassign it later on. Otherwise, you will fail tests that you thought you were passing previously!\n",
    "\n",
    "\n",
    "**Note: This homework has hidden tests on it. That means even though the tests may say 100% passed, it doesn't mean your final grade will be 100%. We will be running more tests for correctness once everyone turns in the homework.**\n",
    "\n",
    "\n",
    "Directly sharing answers is not okay, but discussing problems with the course staff or with other students is encouraged. \n",
    "\n",
    "You should start early so that you have time to get help if you're stuck."
   ]
  },
  {
   "cell_type": "code",
   "execution_count": 3,
   "id": "cell-hw10-4",
   "metadata": {},
   "outputs": [],
   "source": [
    "# Run this cell to set up the notebook, but please don't change it.\n",
    "\n",
    "import numpy as np\n",
    "from datascience import *\n",
    "\n",
    "# These lines do some fancy plotting magic.\n",
    "import matplotlib\n",
    "%matplotlib inline\n",
    "import matplotlib.pyplot as plt\n",
    "plt.style.use('fivethirtyeight')\n",
    "import warnings\n",
    "warnings.simplefilter('ignore', FutureWarning)\n",
    "from datetime import datetime"
   ]
  },
  {
   "cell_type": "markdown",
   "id": "cell-hw10-5",
   "metadata": {},
   "source": [
    "## 1. Triple Jump Distances vs. Vertical Jump Heights "
   ]
  },
  {
   "cell_type": "markdown",
   "id": "cell-hw10-6",
   "metadata": {},
   "source": [
    "Does skill in one sport imply skill in a related sport?  The answer might be different for different activities. Let's find out whether it's true for the [triple jump](https://en.wikipedia.org/wiki/Triple_jump) (a horizontal jump similar to a long jump) and the [vertical jump](https://en.wikipedia.org/wiki/Vertical_jump).  Since we're learning about linear regression, we will look specifically for a *linear* association between skill level in the two sports.\n",
    "\n",
    "The following data was collected by observing 40 collegiate-level soccer players. Each athlete's distances in both events were measured in centimeters. Run the cell below to load the data."
   ]
  },
  {
   "cell_type": "code",
   "execution_count": 4,
   "id": "cell-hw10-7",
   "metadata": {
    "ExecuteTime": {
     "end_time": "2018-04-03T22:42:22.463984Z",
     "start_time": "2018-04-03T22:42:22.455963Z"
    }
   },
   "outputs": [
    {
     "data": {
      "text/html": [
       "<table border=\"1\" class=\"dataframe\">\n",
       "    <thead>\n",
       "        <tr>\n",
       "            <th>triple</th> <th>vertical</th>\n",
       "        </tr>\n",
       "    </thead>\n",
       "    <tbody>\n",
       "        <tr>\n",
       "            <td>383   </td> <td>33      </td>\n",
       "        </tr>\n",
       "        <tr>\n",
       "            <td>781   </td> <td>71.1    </td>\n",
       "        </tr>\n",
       "        <tr>\n",
       "            <td>561.62</td> <td>62.25   </td>\n",
       "        </tr>\n",
       "        <tr>\n",
       "            <td>624.52</td> <td>61.33   </td>\n",
       "        </tr>\n",
       "        <tr>\n",
       "            <td>446.24</td> <td>40.19   </td>\n",
       "        </tr>\n",
       "        <tr>\n",
       "            <td>515.3 </td> <td>38.96   </td>\n",
       "        </tr>\n",
       "        <tr>\n",
       "            <td>449.22</td> <td>39.69   </td>\n",
       "        </tr>\n",
       "        <tr>\n",
       "            <td>560.91</td> <td>46.51   </td>\n",
       "        </tr>\n",
       "        <tr>\n",
       "            <td>519.12</td> <td>37.68   </td>\n",
       "        </tr>\n",
       "        <tr>\n",
       "            <td>595.38</td> <td>53.48   </td>\n",
       "        </tr>\n",
       "    </tbody>\n",
       "</table>\n",
       "<p>... (30 rows omitted)</p>"
      ],
      "text/plain": [
       "triple | vertical\n",
       "383    | 33\n",
       "781    | 71.1\n",
       "561.62 | 62.25\n",
       "624.52 | 61.33\n",
       "446.24 | 40.19\n",
       "515.3  | 38.96\n",
       "449.22 | 39.69\n",
       "560.91 | 46.51\n",
       "519.12 | 37.68\n",
       "595.38 | 53.48\n",
       "... (30 rows omitted)"
      ]
     },
     "execution_count": 4,
     "metadata": {},
     "output_type": "execute_result"
    }
   ],
   "source": [
    "# Run this cell to load the data\n",
    "jumps = Table.read_table('triple_vertical.csv')\n",
    "jumps"
   ]
  },
  {
   "cell_type": "markdown",
   "id": "cell-hw10-8",
   "metadata": {
    "deletable": false,
    "editable": false
   },
   "source": [
    "**Question 1.1.** Create a function `standard_units` that converts the values in the array `data` to standard units. **(5 points)**\n"
   ]
  },
  {
   "cell_type": "code",
   "execution_count": 5,
   "id": "cell-hw10-9",
   "metadata": {
    "tags": []
   },
   "outputs": [],
   "source": [
    "def standard_units(data):\n",
    "    avg = np.mean(data)\n",
    "    sd = np.std(data)\n",
    "    return (data - avg)/sd"
   ]
  },
  {
   "cell_type": "code",
   "execution_count": 6,
   "id": "cell-hw10-10",
   "metadata": {
    "deletable": false,
    "editable": false
   },
   "outputs": [
    {
     "data": {
      "text/html": [
       "<p><strong><pre style='display: inline;'>q1_1</pre></strong> passed! 🙌</p>"
      ],
      "text/plain": [
       "q1_1 results: All test cases passed!"
      ]
     },
     "execution_count": 6,
     "metadata": {},
     "output_type": "execute_result"
    }
   ],
   "source": [
    "grader.check(\"q1_1\")"
   ]
  },
  {
   "cell_type": "markdown",
   "id": "cell-hw10-11",
   "metadata": {
    "deletable": false,
    "editable": false
   },
   "source": [
    "**Question 1.2.** Now, using the `standard_units` function, define the function `correlation` which computes the correlation between `x` and `y`. **(5 points)**\n"
   ]
  },
  {
   "cell_type": "code",
   "execution_count": 7,
   "id": "cell-hw10-12",
   "metadata": {
    "tags": []
   },
   "outputs": [],
   "source": [
    "def correlation(x, y):\n",
    "    return np.mean(standard_units(x) * standard_units(y))"
   ]
  },
  {
   "cell_type": "code",
   "execution_count": 8,
   "id": "cell-hw10-13",
   "metadata": {
    "deletable": false,
    "editable": false
   },
   "outputs": [
    {
     "data": {
      "text/html": [
       "<p><strong><pre style='display: inline;'>q1_2</pre></strong> passed! 🌟</p>"
      ],
      "text/plain": [
       "q1_2 results: All test cases passed!"
      ]
     },
     "execution_count": 8,
     "metadata": {},
     "output_type": "execute_result"
    }
   ],
   "source": [
    "grader.check(\"q1_2\")"
   ]
  },
  {
   "cell_type": "markdown",
   "id": "cell-hw10-14",
   "metadata": {
    "deletable": false,
    "editable": false
   },
   "source": [
    "<!-- BEGIN QUESTION -->\n",
    "\n",
    "**Question 1.3.** Before running a regression, it's important to see what the data looks like, because our eyes are good at picking out unusual patterns in data.  Draw a scatter plot, **that includes the regression line**, with the triple jump distances on the horizontal axis and the vertical jump heights on vertical axis. **(5 points)**\n",
    "\n",
    "See the documentation on `scatter` [here](http://data8.org/datascience/_autosummary/datascience.tables.Table.scatter.html#datascience.tables.Table.scatter) for instructions on how to have Python draw the regression line automatically.\n",
    "\n",
    "*Hint:* The `fit_line` argument may be useful here!\n"
   ]
  },
  {
   "cell_type": "code",
   "execution_count": 10,
   "id": "cell-hw10-15",
   "metadata": {
    "ExecuteTime": {
     "end_time": "2018-04-03T07:28:04.288689Z",
     "start_time": "2018-04-03T07:28:04.108660Z"
    },
    "deletable": false,
    "manual_problem_id": "jumping_1",
    "tags": []
   },
   "outputs": [
    {
     "data": {
      "image/png": "[encoded data removed]",
      "text/plain": [
       "<Figure size 500x500 with 1 Axes>"
      ]
     },
     "metadata": {},
     "output_type": "display_data"
    }
   ],
   "source": [
    "jumps.scatter(\"triple\", \"vertical\", fit_line=True)"
   ]
  },
  {
   "cell_type": "markdown",
   "id": "cell-hw10-16",
   "metadata": {
    "deletable": false,
    "editable": false
   },
   "source": [
    "<!-- END QUESTION -->\n",
    "\n",
    "<!-- BEGIN QUESTION -->\n",
    "\n",
    "**Question 1.4.** Does the correlation coefficient $r$ look closest to 0, .5, or -.5? Explain. **(5 points)**\n"
   ]
  },
  {
   "cell_type": "markdown",
   "id": "cell-hw10-17",
   "metadata": {},
   "source": [
    "_Type your answer here, replacing this text._"
   ]
  },
  {
   "cell_type": "markdown",
   "id": "cell-hw10-18",
   "metadata": {
    "deletable": false,
    "editable": false
   },
   "source": [
    "<!-- END QUESTION -->\n",
    "\n",
    "**Question 1.5.** Create a function called `parameter_estimates` that takes in the argument `tbl`, a two-column table where the first column is the x-axis and the second column is the y-axis. It should return an array with three elements: the **(1) correlation coefficient** of the two columns and the **(2) slope** and **(3) intercept** of the regression line that predicts the second column from the first, in original units. **(5 points)**\n",
    "\n",
    "*Hint:* This is a rare occasion where it’s better to implement the function using column indices instead of column names, in order to be able to call this function on any table. If you need a reminder about how to use column indices to pull out individual columns, please refer to [this](https://www.inferentialthinking.com/chapters/06/Tables.html#accessing-the-data-in-a-column) section of the textbook.\n"
   ]
  },
  {
   "cell_type": "code",
   "execution_count": 46,
   "id": "cell-hw10-19",
   "metadata": {
    "ExecuteTime": {
     "end_time": "2018-04-03T22:42:28.451495Z",
     "start_time": "2018-04-03T22:42:28.441469Z"
    },
    "for_assignment_type": "solution",
    "tags": []
   },
   "outputs": [
    {
     "name": "stdout",
     "output_type": "stream",
     "text": [
      "r: 0.8343076972837598 ; slope: 0.09295728160512184 ; intercept: -1.566520972963474\n"
     ]
    }
   ],
   "source": [
    "def parameter_estimates(tbl):\n",
    "    x = tbl.column(0)\n",
    "    y = tbl.column(1)\n",
    "    r = correlation(x, y)\n",
    "    slope = r * np.std(y)/np.std(x)\n",
    "    intercept = np.mean(y) - slope * np.mean(x)\n",
    "    return make_array(r, slope, intercept)\n",
    "\n",
    "parameters = parameter_estimates(jumps) \n",
    "print('r:', parameters.item(0), '; slope:', parameters.item(1), '; intercept:', parameters.item(2))"
   ]
  },
  {
   "cell_type": "code",
   "execution_count": 47,
   "id": "cell-hw10-20",
   "metadata": {
    "deletable": false,
    "editable": false
   },
   "outputs": [
    {
     "data": {
      "text/html": [
       "<p><strong><pre style='display: inline;'>q1_5</pre></strong> passed! 🍀</p>"
      ],
      "text/plain": [
       "q1_5 results: All test cases passed!"
      ]
     },
     "execution_count": 47,
     "metadata": {},
     "output_type": "execute_result"
    }
   ],
   "source": [
    "grader.check(\"q1_5\")"
   ]
  },
  {
   "cell_type": "markdown",
   "id": "cell-hw10-21",
   "metadata": {
    "deletable": false,
    "editable": false
   },
   "source": [
    "**Question 1.6.** Now suppose you want to go the other way and predict a triple jump distance given a vertical jump distance. What would the regression parameters of this linear model be? How do they compare to the regression parameters from the model where you were predicting vertical jump distance given a triple jump distance (in Question 1.5)? **(5 points)**\n",
    "\n",
    "Set `regression_changes` to an array of 3 elements, with each element corresponding to whether or not the corresponding item returned by `parameter_estimates` changes when switching vertical and triple as $x$ and $y$. For example, if $r$ changes, the slope changes, but the intercept wouldn't change, the `regression_changes` would be assigned to `make_array(True, True, False)`.\n"
   ]
  },
  {
   "cell_type": "code",
   "execution_count": 48,
   "id": "cell-hw10-22",
   "metadata": {
    "tags": []
   },
   "outputs": [
    {
     "data": {
      "text/plain": [
       "array([0, 1, 1])"
      ]
     },
     "execution_count": 48,
     "metadata": {},
     "output_type": "execute_result"
    }
   ],
   "source": [
    "regression_changes = make_array(False, True, True)\n",
    "regression_changes"
   ]
  },
  {
   "cell_type": "code",
   "execution_count": 49,
   "id": "cell-hw10-23",
   "metadata": {
    "deletable": false,
    "editable": false
   },
   "outputs": [
    {
     "data": {
      "text/html": [
       "<p><strong><pre style='display: inline;'>q1_6</pre></strong> passed! 🌟</p>"
      ],
      "text/plain": [
       "q1_6 results: All test cases passed!"
      ]
     },
     "execution_count": 49,
     "metadata": {},
     "output_type": "execute_result"
    }
   ],
   "source": [
    "grader.check(\"q1_6\")"
   ]
  },
  {
   "cell_type": "markdown",
   "id": "cell-hw10-24",
   "metadata": {
    "deletable": false,
    "editable": false
   },
   "source": [
    "**Question 1.7.** Let's use `parameters` (from Question 1.5) to predict what certain athletes' vertical jump heights would be given their triple jump distances. **(5 points)**\n",
    "\n",
    "The world record for the triple jump distance is 18.29 *meters* by Johnathan Edwards. What is the prediction for Edwards' vertical jump using this line?\n",
    "\n",
    "*Hint:* Make sure to convert from meters to centimeters!\n"
   ]
  },
  {
   "cell_type": "code",
   "execution_count": 56,
   "id": "cell-hw10-25",
   "metadata": {
    "deletable": false,
    "tags": []
   },
   "outputs": [
    {
     "name": "stdout",
     "output_type": "stream",
     "text": [
      "Predicted vertical jump distance: 168.452347 centimeters\n"
     ]
    }
   ],
   "source": [
    "triple_record_vert_est = parameters.item(2) + parameters.item(1) * 18.29 * 100\n",
    "print(\"Predicted vertical jump distance: {:f} centimeters\".format(triple_record_vert_est))"
   ]
  },
  {
   "cell_type": "code",
   "execution_count": 57,
   "id": "cell-hw10-26",
   "metadata": {
    "deletable": false,
    "editable": false
   },
   "outputs": [
    {
     "data": {
      "text/html": [
       "<p><strong><pre style='display: inline;'>q1_7</pre></strong> passed! 🚀</p>"
      ],
      "text/plain": [
       "q1_7 results: All test cases passed!"
      ]
     },
     "execution_count": 57,
     "metadata": {},
     "output_type": "execute_result"
    }
   ],
   "source": [
    "grader.check(\"q1_7\")"
   ]
  },
  {
   "cell_type": "markdown",
   "id": "cell-hw10-27",
   "metadata": {
    "deletable": false,
    "editable": false
   },
   "source": [
    "<!-- BEGIN QUESTION -->\n",
    "\n",
    "**Question 1.8.** Do you think it makes sense to use this line to predict Edwards' vertical jump? **(5 points)**\n",
    "\n",
    "*Hint:* Compare Edwards' triple jump distance to the triple jump distances in `jumps`. Is it relatively similar to the rest of the data (shown in Question 1.3)? \n"
   ]
  },
  {
   "cell_type": "markdown",
   "id": "cell-hw10-28",
   "metadata": {},
   "source": [
    "_Type your answer here, replacing this text._"
   ]
  },
  {
   "cell_type": "markdown",
   "id": "cell-hw10-29",
   "metadata": {
    "deletable": false,
    "editable": false
   },
   "source": [
    "<!-- END QUESTION -->\n",
    "\n",
    "## 2. Cryptocurrencies"
   ]
  },
  {
   "cell_type": "markdown",
   "id": "cell-hw10-30",
   "metadata": {},
   "source": [
    "Imagine you're an investor in December 2017. Cryptocurrencies, online currencies backed by secure software, are becoming extremely valuable, and you want in on the action!\n",
    "\n",
    "The two most valuable cryptocurrencies are Bitcoin (BTC) and Ethereum (ETH). Each one has a dollar price attached to it at any given moment in time. For example, on December 1st, 2017, one BTC costs $\\$10,859.56$ and one ETH costs $\\$424.64.$\n",
    "\n",
    "For fun, here are the current prices of [Bitcoin](https://www.coinbase.com/price/bitcoin) and [Ethereum](https://www.coinbase.com/price/ethereum)!\n",
    "\n",
    "**You want to predict the price of ETH at some point in time based on the price of BTC.** Below, we load two [tables](https://www.kaggle.com/jessevent/all-crypto-currencies/data) called `btc` and `eth`. Each has 5 columns:\n",
    "* `date`, the date\n",
    "* `open`, the value of the currency at the beginning of the day\n",
    "* `close`, the value of the currency at the end of the day\n",
    "* `market`, the market cap or total dollar value invested in the currency\n",
    "* `day`, the number of days since the start of our data"
   ]
  },
  {
   "cell_type": "code",
   "execution_count": 58,
   "id": "cell-hw10-31",
   "metadata": {
    "ExecuteTime": {
     "end_time": "2018-04-04T09:57:46.445990Z",
     "start_time": "2018-04-04T09:57:46.433958Z"
    }
   },
   "outputs": [
    {
     "data": {
      "text/html": [
       "<table border=\"1\" class=\"dataframe\">\n",
       "    <thead>\n",
       "        <tr>\n",
       "            <th>date</th> <th>open</th> <th>close</th> <th>market</th> <th>day</th>\n",
       "        </tr>\n",
       "    </thead>\n",
       "    <tbody>\n",
       "        <tr>\n",
       "            <td>2015-09-29</td> <td>239.02</td> <td>236.69</td> <td>3505090000</td> <td>1   </td>\n",
       "        </tr>\n",
       "        <tr>\n",
       "            <td>2015-09-30</td> <td>236.64</td> <td>236.06</td> <td>3471280000</td> <td>2   </td>\n",
       "        </tr>\n",
       "        <tr>\n",
       "            <td>2015-10-01</td> <td>236   </td> <td>237.55</td> <td>3462800000</td> <td>3   </td>\n",
       "        </tr>\n",
       "        <tr>\n",
       "            <td>2015-10-02</td> <td>237.26</td> <td>237.29</td> <td>3482190000</td> <td>4   </td>\n",
       "        </tr>\n",
       "        <tr>\n",
       "            <td>2015-10-03</td> <td>237.2 </td> <td>238.73</td> <td>3482100000</td> <td>5   </td>\n",
       "        </tr>\n",
       "    </tbody>\n",
       "</table>\n",
       "<p>... (830 rows omitted)</p>"
      ],
      "text/plain": [
       "<IPython.core.display.HTML object>"
      ]
     },
     "metadata": {},
     "output_type": "display_data"
    }
   ],
   "source": [
    "btc = Table.read_table('btc.csv')\n",
    "btc.show(5)"
   ]
  },
  {
   "cell_type": "code",
   "execution_count": 59,
   "id": "cell-hw10-32",
   "metadata": {
    "ExecuteTime": {
     "end_time": "2018-04-04T09:57:46.458022Z",
     "start_time": "2018-04-04T09:57:46.446994Z"
    }
   },
   "outputs": [
    {
     "data": {
      "text/html": [
       "<table border=\"1\" class=\"dataframe\">\n",
       "    <thead>\n",
       "        <tr>\n",
       "            <th>date</th> <th>open</th> <th>close</th> <th>market</th> <th>day</th>\n",
       "        </tr>\n",
       "    </thead>\n",
       "    <tbody>\n",
       "        <tr>\n",
       "            <td>2015-09-29</td> <td>0.579414</td> <td>0.661146</td> <td>42607700</td> <td>1   </td>\n",
       "        </tr>\n",
       "        <tr>\n",
       "            <td>2015-09-30</td> <td>0.661192</td> <td>0.738644</td> <td>48636600</td> <td>2   </td>\n",
       "        </tr>\n",
       "        <tr>\n",
       "            <td>2015-10-01</td> <td>0.734307</td> <td>0.690215</td> <td>54032300</td> <td>3   </td>\n",
       "        </tr>\n",
       "        <tr>\n",
       "            <td>2015-10-02</td> <td>0.683732</td> <td>0.678574</td> <td>50328700</td> <td>4   </td>\n",
       "        </tr>\n",
       "        <tr>\n",
       "            <td>2015-10-03</td> <td>0.678783</td> <td>0.687171</td> <td>49981900</td> <td>5   </td>\n",
       "        </tr>\n",
       "    </tbody>\n",
       "</table>\n",
       "<p>... (830 rows omitted)</p>"
      ],
      "text/plain": [
       "<IPython.core.display.HTML object>"
      ]
     },
     "metadata": {},
     "output_type": "display_data"
    }
   ],
   "source": [
    "eth = Table.read_table('eth.csv')\n",
    "eth.show(5)"
   ]
  },
  {
   "cell_type": "markdown",
   "id": "cell-hw10-33",
   "metadata": {
    "deletable": false,
    "editable": false
   },
   "source": [
    "<!-- BEGIN QUESTION -->\n",
    "\n",
    "**Question 2.1.** In the cell below, create an overlaid line plot that visualizes the BTC and ETH open prices as a function of the day. Both BTC and ETH open prices should be plotted on the same graph. **(5 points)**\n",
    "\n",
    "*Hint*: [Section 7.3](https://inferentialthinking.com/chapters/07/3/Overlaid_Graphs.html#overlaid-line-plots) in the textbook might be helpful!\n"
   ]
  },
  {
   "cell_type": "code",
   "execution_count": 65,
   "id": "cell-hw10-34",
   "metadata": {
    "deletable": false,
    "for_assignment_type": "student",
    "tags": []
   },
   "outputs": [
    {
     "data": {
      "text/plain": [
       "<matplotlib.legend.Legend at 0x218d3d0af90>"
      ]
     },
     "execution_count": 65,
     "metadata": {},
     "output_type": "execute_result"
    },
    {
     "data": {
      "image/png": "[encoded data removed]",
      "text/plain": [
       "<Figure size 640x480 with 1 Axes>"
      ]
     },
     "metadata": {},
     "output_type": "display_data"
    }
   ],
   "source": [
    "# Create a line plot of btc and eth open prices as a function of time\n",
    "plt.plot(btc.column(\"day\"), btc.column(\"open\"), label=\"BTC\")\n",
    "plt.plot(eth.column(\"day\"), eth.column(\"open\"), label=\"ETH\")\n",
    "plt.legend()"
   ]
  },
  {
   "cell_type": "markdown",
   "id": "cell-hw10-35",
   "metadata": {
    "deletable": false,
    "editable": false
   },
   "source": [
    "<!-- END QUESTION -->\n",
    "\n",
    "**Question 2.2.** Now, calculate the correlation coefficient between the opening prices of BTC and ETH using the `correlation` function you defined earlier. **(5 points)**\n"
   ]
  },
  {
   "cell_type": "code",
   "execution_count": 66,
   "id": "cell-hw10-36",
   "metadata": {
    "ExecuteTime": {
     "end_time": "2018-04-04T09:57:57.365938Z",
     "start_time": "2018-04-04T09:57:57.357879Z"
    },
    "deletable": false,
    "tags": []
   },
   "outputs": [
    {
     "data": {
      "text/plain": [
       "0.92503257641482783"
      ]
     },
     "execution_count": 66,
     "metadata": {},
     "output_type": "execute_result"
    }
   ],
   "source": [
    "r = correlation(btc.column('open'), eth.column('open'))\n",
    "r"
   ]
  },
  {
   "cell_type": "code",
   "execution_count": 67,
   "id": "cell-hw10-37",
   "metadata": {
    "deletable": false,
    "editable": false
   },
   "outputs": [
    {
     "data": {
      "text/html": [
       "<p><strong><pre style='display: inline;'>q2_2</pre></strong> passed! 🚀</p>"
      ],
      "text/plain": [
       "q2_2 results: All test cases passed!"
      ]
     },
     "execution_count": 67,
     "metadata": {},
     "output_type": "execute_result"
    }
   ],
   "source": [
    "grader.check(\"q2_2\")"
   ]
  },
  {
   "cell_type": "markdown",
   "id": "cell-hw10-38",
   "metadata": {
    "deletable": false,
    "editable": false
   },
   "source": [
    "**Question 2.3.** Write a function `eth_predictor` which takes an opening BTC price and predicts the opening price of ETH. Again, it will be helpful to use the function `parameter_estimates` that you defined earlier in this homework. **(5 points)**\n",
    "\n",
    "*Hint*: Double-check what the `tbl` input to `parameter_estimates` must look like!\n",
    "\n",
    "*Note:* Make sure that your `eth_predictor` is using least squares linear regression.\n"
   ]
  },
  {
   "cell_type": "code",
   "execution_count": 68,
   "id": "cell-hw10-39",
   "metadata": {
    "deletable": false,
    "tags": []
   },
   "outputs": [],
   "source": [
    "def eth_predictor(btc_price):\n",
    "    tbl = Table().with_columns(\"btc open\", btc.column(\"open\"), \"eth open\", eth.column(\"open\"))\n",
    "    parameters = parameter_estimates(tbl)\n",
    "    slope = parameters.item(1)\n",
    "    intercept = parameters.item(2)\n",
    "    return intercept + slope * btc_price"
   ]
  },
  {
   "cell_type": "code",
   "execution_count": 69,
   "id": "cell-hw10-40",
   "metadata": {
    "deletable": false,
    "editable": false
   },
   "outputs": [
    {
     "data": {
      "text/html": [
       "<p><strong><pre style='display: inline;'>q2_3</pre></strong> passed! 💯</p>"
      ],
      "text/plain": [
       "q2_3 results: All test cases passed!"
      ]
     },
     "execution_count": 69,
     "metadata": {},
     "output_type": "execute_result"
    }
   ],
   "source": [
    "grader.check(\"q2_3\")"
   ]
  },
  {
   "cell_type": "markdown",
   "id": "cell-hw10-41",
   "metadata": {
    "deletable": false,
    "editable": false
   },
   "source": [
    "<!-- BEGIN QUESTION -->\n",
    "\n",
    "**Question 2.4.** Now, using the `eth_predictor` function you just defined, make a scatter plot with BTC prices along the x-axis and both real and predicted ETH prices along the y-axis. The color of the dots for the real ETH prices should be different from the color for the predicted ETH prices. **(5 points)**\n",
    "\n",
    "*Hint 1:* An example of such a scatter plot is generated can be found [here](https://inferentialthinking.com/chapters/15/2/Regression_Line.html). </a>\n",
    "\n",
    "*Hint 2:* Think about the table that must be produced and used to generate this scatter plot. What data should the columns represent? Based on the data that you need, how many columns should be present in this table? Also, what should each row represent? Constructing the table will be the main part of this question; once you have this table, generating the scatter plot should be straightforward as usual.\n"
   ]
  },
  {
   "cell_type": "code",
   "execution_count": 75,
   "id": "cell-hw10-42",
   "metadata": {
    "for_assignment_type": "solution",
    "tags": []
   },
   "outputs": [
    {
     "data": {
      "text/plain": [
       "<matplotlib.legend.Legend at 0x218d7dfeea0>"
      ]
     },
     "execution_count": 75,
     "metadata": {},
     "output_type": "execute_result"
    },
    {
     "data": {
      "image/png": "[encoded data removed]",
      "text/plain": [
       "<Figure size 1000x600 with 1 Axes>"
      ]
     },
     "metadata": {},
     "output_type": "display_data"
    }
   ],
   "source": [
    "btc_open = btc.column(\"open\")\n",
    "eth_pred = btc.apply(eth_predictor, \"open\")\n",
    "eth_pred_actual = eth.column(\"open\")\n",
    "plot_table = Table().with_columns(\n",
    "    \"BTC Open\", btc_open,\n",
    "    \"ETH Pre\", eth_pred,\n",
    "    \"ETH Open\", eth_pred_actual\n",
    ")\n",
    "plt.figure(figsize=(10, 6))\n",
    "plt.scatter(plot_table.column('BTC Open'), plot_table.column('ETH Pre'), color='red', label='Predicted ETH Price')\n",
    "plt.scatter(plot_table.column('BTC Open'), plot_table.column('ETH Open'), color='blue', label='Actual ETH Price')\n",
    "plt.legend()\n"
   ]
  },
  {
   "cell_type": "markdown",
   "id": "cell-hw10-43",
   "metadata": {
    "deletable": false,
    "editable": false
   },
   "source": [
    "<!-- END QUESTION -->\n",
    "\n",
    "<!-- BEGIN QUESTION -->\n",
    "\n",
    "**Question 2.5.** Considering the shape of the scatter plot of the true data, is the model we used reasonable? If so, what features or characteristics make this model reasonable? If not, what features or characteristics make it unreasonable? **(5 points)**\n"
   ]
  },
  {
   "cell_type": "markdown",
   "id": "cell-hw10-44",
   "metadata": {},
   "source": [
    "_Type your answer here, replacing this text._"
   ]
  },
  {
   "cell_type": "markdown",
   "id": "cell-hw10-45",
   "metadata": {
    "deletable": false,
    "editable": false
   },
   "source": [
    "<!-- END QUESTION -->\n",
    "\n",
    "## 3. Evaluating NBA Game Predictions"
   ]
  },
  {
   "cell_type": "markdown",
   "id": "cell-hw10-46",
   "metadata": {},
   "source": [
    "#### A Brief Introduction to Sports Betting\n",
    "\n",
    "In a basketball game, each team scores some number of points.  Conventionally, the team playing at its own arena is called the \"home team\", and their opponent is called the \"away team\".  The winner is the team with more points at the end of the game.\n",
    "\n",
    "We can summarize what happened in a game by the \"**outcome**\", defined as the **the away team's score minus the home team's score**:\n",
    "\n",
    "$$\\text{outcome} = \\text{points scored by the away team} - \\text{points scored by the home team}$$\n",
    "\n",
    "If this number is positive, the away team won.  If it's negative, the home team won. \n",
    "\n",
    "In order to facilitate betting on games, analysts at casinos try to predict the outcome of the game. This prediction of the outcome is called the **spread.**\n"
   ]
  },
  {
   "cell_type": "code",
   "execution_count": 76,
   "id": "cell-hw10-47",
   "metadata": {},
   "outputs": [
    {
     "data": {
      "text/html": [
       "<table border=\"1\" class=\"dataframe\">\n",
       "    <thead>\n",
       "        <tr>\n",
       "            <th>Date</th> <th>Home Team</th> <th>Away Team</th> <th>Home Points</th> <th>Away Points</th> <th>Outcome</th> <th>Spread</th>\n",
       "        </tr>\n",
       "    </thead>\n",
       "    <tbody>\n",
       "        <tr>\n",
       "            <td>4/10/2015 </td> <td>Utah         </td> <td>Memphis    </td> <td>88         </td> <td>89         </td> <td>1      </td> <td>2.5   </td>\n",
       "        </tr>\n",
       "        <tr>\n",
       "            <td>3/10/2015 </td> <td>Utah         </td> <td>New York   </td> <td>87         </td> <td>82         </td> <td>-5     </td> <td>-13   </td>\n",
       "        </tr>\n",
       "        <tr>\n",
       "            <td>11/19/2014</td> <td>Indiana      </td> <td>Charlotte  </td> <td>88         </td> <td>86         </td> <td>-2     </td> <td>-2    </td>\n",
       "        </tr>\n",
       "        <tr>\n",
       "            <td>11/15/2014</td> <td>Chicago      </td> <td>Indiana    </td> <td>90         </td> <td>99         </td> <td>9      </td> <td>-9    </td>\n",
       "        </tr>\n",
       "        <tr>\n",
       "            <td>3/25/2015 </td> <td>Utah         </td> <td>Portland   </td> <td>89         </td> <td>92         </td> <td>3      </td> <td>-2    </td>\n",
       "        </tr>\n",
       "        <tr>\n",
       "            <td>3/3/2015  </td> <td>Memphis      </td> <td>Utah       </td> <td>82         </td> <td>93         </td> <td>11     </td> <td>-7    </td>\n",
       "        </tr>\n",
       "        <tr>\n",
       "            <td>3/18/2015 </td> <td>Utah         </td> <td>Washington </td> <td>84         </td> <td>88         </td> <td>4      </td> <td>-3    </td>\n",
       "        </tr>\n",
       "        <tr>\n",
       "            <td>3/16/2015 </td> <td>Utah         </td> <td>Charlotte  </td> <td>94         </td> <td>66         </td> <td>-28    </td> <td>-4.5  </td>\n",
       "        </tr>\n",
       "        <tr>\n",
       "            <td>1/24/2015 </td> <td>Charlotte    </td> <td>New York   </td> <td>76         </td> <td>71         </td> <td>-5     </td> <td>-9    </td>\n",
       "        </tr>\n",
       "        <tr>\n",
       "            <td>11/7/2014 </td> <td>Oklahoma City</td> <td>Memphis    </td> <td>89         </td> <td>91         </td> <td>2      </td> <td>7     </td>\n",
       "        </tr>\n",
       "    </tbody>\n",
       "</table>\n",
       "<p>... (1220 rows omitted)</p>"
      ],
      "text/plain": [
       "Date       | Home Team     | Away Team   | Home Points | Away Points | Outcome | Spread\n",
       "4/10/2015  | Utah          | Memphis     | 88          | 89          | 1       | 2.5\n",
       "3/10/2015  | Utah          | New York    | 87          | 82          | -5      | -13\n",
       "11/19/2014 | Indiana       | Charlotte   | 88          | 86          | -2      | -2\n",
       "11/15/2014 | Chicago       | Indiana     | 90          | 99          | 9       | -9\n",
       "3/25/2015  | Utah          | Portland    | 89          | 92          | 3       | -2\n",
       "3/3/2015   | Memphis       | Utah        | 82          | 93          | 11      | -7\n",
       "3/18/2015  | Utah          | Washington  | 84          | 88          | 4       | -3\n",
       "3/16/2015  | Utah          | Charlotte   | 94          | 66          | -28     | -4.5\n",
       "1/24/2015  | Charlotte     | New York    | 76          | 71          | -5      | -9\n",
       "11/7/2014  | Oklahoma City | Memphis     | 89          | 91          | 2       | 7\n",
       "... (1220 rows omitted)"
      ]
     },
     "execution_count": 76,
     "metadata": {},
     "output_type": "execute_result"
    }
   ],
   "source": [
    "spreads = Table.read_table(\"spreads.csv\")\n",
    "spreads"
   ]
  },
  {
   "cell_type": "markdown",
   "id": "cell-hw10-48",
   "metadata": {},
   "source": [
    "Here's a scatter plot of the outcomes and spreads, with the spreads on the horizontal axis."
   ]
  },
  {
   "cell_type": "code",
   "execution_count": 77,
   "id": "cell-hw10-49",
   "metadata": {},
   "outputs": [
    {
     "data": {
      "image/png": "[encoded data removed]",
      "text/plain": [
       "<Figure size 500x500 with 1 Axes>"
      ]
     },
     "metadata": {},
     "output_type": "display_data"
    }
   ],
   "source": [
    "spreads.scatter(\"Spread\", \"Outcome\")"
   ]
  },
  {
   "cell_type": "markdown",
   "id": "cell-hw10-50",
   "metadata": {},
   "source": [
    "From the scatter plot, you can see that the spread and outcome are almost never 0, aside from one case of the spread being 0. This is because a game of basketball never ends in a tie. One team has to win, so the outcome can never be 0. The spread is almost never 0 because it's chosen to estimate the outcome."
   ]
  },
  {
   "cell_type": "markdown",
   "id": "cell-hw10-51",
   "metadata": {},
   "source": [
    "Let's investigate how well the casinos are predicting game outcomes.\n",
    "\n",
    "One question we can ask is: Is the casino's prediction correct on average? In other words, for every value of the spread, is the average outcome of games assigned that spread equal to the spread? If not, the casino would apparently be making a systematic error in its predictions."
   ]
  },
  {
   "cell_type": "markdown",
   "id": "cell-hw10-52",
   "metadata": {
    "deletable": false,
    "editable": false
   },
   "source": [
    "**Question 3.1.** Compute the correlation coefficient between outcomes and spreads. **(5 points)**\n",
    "\n",
    "*Note:* It might be helpful to use the `correlation` function.\n"
   ]
  },
  {
   "cell_type": "code",
   "execution_count": 82,
   "id": "cell-hw10-53",
   "metadata": {
    "deletable": false,
    "tags": []
   },
   "outputs": [
    {
     "data": {
      "text/plain": [
       "0.49181413688314235"
      ]
     },
     "execution_count": 82,
     "metadata": {},
     "output_type": "execute_result"
    }
   ],
   "source": [
    "spread_r = correlation(spreads.column('Outcome'), spreads.column(\"Spread\"))\n",
    "spread_r"
   ]
  },
  {
   "cell_type": "code",
   "execution_count": 83,
   "id": "cell-hw10-54",
   "metadata": {
    "deletable": false,
    "editable": false
   },
   "outputs": [
    {
     "data": {
      "text/html": [
       "<p><strong><pre style='display: inline;'>q3_1</pre></strong> passed! 🌟</p>"
      ],
      "text/plain": [
       "q3_1 results: All test cases passed!"
      ]
     },
     "execution_count": 83,
     "metadata": {},
     "output_type": "execute_result"
    }
   ],
   "source": [
    "grader.check(\"q3_1\")"
   ]
  },
  {
   "cell_type": "markdown",
   "id": "cell-hw10-55",
   "metadata": {
    "deletable": false,
    "editable": false
   },
   "source": [
    "**Question 3.2.** Among games with a spread between 3.5 and 6.5 (including both 3.5 and 6.5), what was the average outcome? **(5 points)**\n"
   ]
  },
  {
   "cell_type": "code",
   "execution_count": 86,
   "id": "cell-hw10-56",
   "metadata": {
    "deletable": false,
    "tags": []
   },
   "outputs": [
    {
     "name": "stdout",
     "output_type": "stream",
     "text": [
      "Average outcome for spreads around 5: 4.99411764706\n"
     ]
    }
   ],
   "source": [
    "spreads_around_5 = spreads.where('Spread', are.between_or_equal_to(3.5, 6.5))\n",
    "spread_5_outcome_average = np.mean(spreads_around_5.column(\"Outcome\"))\n",
    "print(\"Average outcome for spreads around 5:\", spread_5_outcome_average)"
   ]
  },
  {
   "cell_type": "code",
   "execution_count": 87,
   "id": "cell-hw10-57",
   "metadata": {
    "deletable": false,
    "editable": false
   },
   "outputs": [
    {
     "data": {
      "text/html": [
       "<p><strong><pre style='display: inline;'>q3_2</pre></strong> passed! 💯</p>"
      ],
      "text/plain": [
       "q3_2 results: All test cases passed!"
      ]
     },
     "execution_count": 87,
     "metadata": {},
     "output_type": "execute_result"
    }
   ],
   "source": [
    "grader.check(\"q3_2\")"
   ]
  },
  {
   "cell_type": "markdown",
   "id": "cell-hw10-58",
   "metadata": {
    "deletable": false,
    "editable": false
   },
   "source": [
    "**Question 3.3.** Use the function `parameter_estimates` that you defined earlier to compute the least-squares linear regression line that predicts outcomes from spreads, in original units. We have provided a two column table for you in the cell below with the first column representing `Spread` (x) and the second column representing `Outcome` (y), which you should use as an argument to the function. **(5 points)**\n"
   ]
  },
  {
   "cell_type": "code",
   "execution_count": 88,
   "id": "cell-hw10-59",
   "metadata": {
    "deletable": false,
    "scrolled": true,
    "tags": []
   },
   "outputs": [
    {
     "name": "stdout",
     "output_type": "stream",
     "text": [
      "Slope: 0.954\n",
      "Intercept 0.22\n"
     ]
    }
   ],
   "source": [
    "compute_tbl = spreads.select('Spread', 'Outcome')\n",
    "estimates = parameter_estimates(compute_tbl)\n",
    "spread_slope = estimates.item(1)\n",
    "spread_intercept = estimates.item(2)\n",
    "print(\"Slope:\", round(spread_slope, 3))\n",
    "print(\"Intercept\", round(spread_intercept, 3))"
   ]
  },
  {
   "cell_type": "code",
   "execution_count": 89,
   "id": "cell-hw10-60",
   "metadata": {
    "deletable": false,
    "editable": false
   },
   "outputs": [
    {
     "data": {
      "text/html": [
       "<p><strong><pre style='display: inline;'>q3_3</pre></strong> passed! 🌈</p>"
      ],
      "text/plain": [
       "q3_3 results: All test cases passed!"
      ]
     },
     "execution_count": 89,
     "metadata": {},
     "output_type": "execute_result"
    }
   ],
   "source": [
    "grader.check(\"q3_3\")"
   ]
  },
  {
   "cell_type": "markdown",
   "id": "cell-hw10-61",
   "metadata": {
    "deletable": false,
    "editable": false
   },
   "source": [
    "<!-- BEGIN QUESTION -->\n",
    "\n",
    "**Question 3.4.** Suppose that we create another model that simply predicts the average outcome regardless of the value for spread. Does this new model minimize the least squared error? Why or why not? **(5 points)**\n"
   ]
  },
  {
   "cell_type": "markdown",
   "id": "cell-hw10-62",
   "metadata": {},
   "source": [
    "_Type your answer here, replacing this text._"
   ]
  },
  {
   "cell_type": "markdown",
   "id": "cell-hw10-63",
   "metadata": {
    "deletable": false,
    "editable": false
   },
   "source": [
    "<!-- END QUESTION -->\n",
    "\n",
    "### Fitting a Least-Squares Regression Line\n",
    "\n",
    "Recall that the least-squares regression line is the unique straight line that minimizes root mean squared error (RMSE) among all possible fit lines. Using this property, we can find the equation of the regression line by finding the pair of slope and intercept values that minimize root mean squared error. "
   ]
  },
  {
   "cell_type": "markdown",
   "id": "cell-hw10-64",
   "metadata": {
    "deletable": false,
    "editable": false
   },
   "source": [
    "**Question 3.5.** Define a function called `errors`.  It should take three arguments:\n",
    "1. a table `tbl` like `spreads` (with the same column names and meanings, but not necessarily the same data)\n",
    "2. the `slope` of a line (a number)\n",
    "3. the `intercept` of a line (a number).\n",
    "\n",
    "It should **return an array of the errors** made when a line with that slope and intercept is used to predict outcome from spread for each game in the given table. **(3 points)**\n",
    "\n",
    "*Note*: Make sure you are returning an array of the errors, and not the RMSE. \n"
   ]
  },
  {
   "cell_type": "code",
   "execution_count": 90,
   "id": "cell-hw10-65",
   "metadata": {
    "tags": []
   },
   "outputs": [],
   "source": [
    "def errors(tbl, slope, intercept):\n",
    "    spread = tbl.column(\"Spread\")\n",
    "    outcome = tbl.column(\"Outcome\")\n",
    "    pre_outcome = intercept + slope * spread\n",
    "    return outcome - pre_outcome"
   ]
  },
  {
   "cell_type": "code",
   "execution_count": 91,
   "id": "cell-hw10-66",
   "metadata": {
    "deletable": false,
    "editable": false
   },
   "outputs": [
    {
     "data": {
      "text/html": [
       "<p><strong><pre style='display: inline;'>q3_5</pre></strong> passed! 🍀</p>"
      ],
      "text/plain": [
       "q3_5 results: All test cases passed!"
      ]
     },
     "execution_count": 91,
     "metadata": {},
     "output_type": "execute_result"
    }
   ],
   "source": [
    "grader.check(\"q3_5\")"
   ]
  },
  {
   "cell_type": "markdown",
   "id": "cell-hw10-67",
   "metadata": {
    "deletable": false,
    "editable": false
   },
   "source": [
    "**Question 3.6.** Using `errors`, compute the errors for the line with slope `0.5` and intercept `25` on the `spreads` dataset. Name that array `outcome_errors`.  Then, make a scatter plot of the errors. **(3 points)**\n",
    "\n",
    "*Hint:* To make a scatter plot of the errors, plot the error for each outcome in the dataset.  Put the actual spread on the horizontal axis and the outcome error on the vertical axis.\n"
   ]
  },
  {
   "cell_type": "code",
   "execution_count": 93,
   "id": "cell-hw10-68",
   "metadata": {
    "scrolled": true,
    "tags": []
   },
   "outputs": [
    {
     "data": {
      "text/plain": [
       "<matplotlib.collections.PathCollection at 0x218d8389160>"
      ]
     },
     "execution_count": 93,
     "metadata": {},
     "output_type": "execute_result"
    },
    {
     "data": {
      "image/png": "[encoded data removed]",
      "text/plain": [
       "<Figure size 640x480 with 1 Axes>"
      ]
     },
     "metadata": {},
     "output_type": "display_data"
    }
   ],
   "source": [
    "outcome_errors = errors(spreads, 0.5, 25)\n",
    "plt.scatter(spreads.column(\"Spread\"), outcome_errors)"
   ]
  },
  {
   "cell_type": "code",
   "execution_count": 94,
   "id": "cell-hw10-69",
   "metadata": {
    "deletable": false,
    "editable": false
   },
   "outputs": [
    {
     "data": {
      "text/html": [
       "<p><strong><pre style='display: inline;'>q3_6</pre></strong> passed! 🚀</p>"
      ],
      "text/plain": [
       "q3_6 results: All test cases passed!"
      ]
     },
     "execution_count": 94,
     "metadata": {},
     "output_type": "execute_result"
    }
   ],
   "source": [
    "grader.check(\"q3_6\")"
   ]
  },
  {
   "cell_type": "markdown",
   "id": "cell-hw10-70",
   "metadata": {},
   "source": [
    "You should find that the errors are almost all negative.  That means our line is not the best fit to our data.  Let's find a better one."
   ]
  },
  {
   "cell_type": "markdown",
   "id": "cell-hw10-71",
   "metadata": {
    "deletable": false,
    "editable": false
   },
   "source": [
    "**Question 3.7.** Define a function called `fit_line`.  It should take a table like `spreads` (with the same column names and meanings) as its argument.  It should return an array containing the slope (as the first element) and intercept (as the second element) of the least-squares regression line predicting outcome from spread for that table. **(3 points)**\n",
    "\n",
    "*Hint*: Define a function `rmse` within `fit_line` that takes a slope and intercept as its arguments. `rmse` will use the table passed into `fit_line` to compute predicted outcomes and then return the root mean squared error between the predicted and actual outcomes. Within `fit_line`, you can call `rmse` the way you would any other function.\n",
    "\n",
    "If you haven't tried to use the `minimize` [function](http://data8.org/sp22/python-reference.html) yet, now is a great time to practice. Here's an [example from the textbook](https://www.inferentialthinking.com/chapters/15/3/Method_of_Least_Squares.html#numerical-optimization).\n"
   ]
  },
  {
   "cell_type": "code",
   "execution_count": 102,
   "id": "cell-hw10-72",
   "metadata": {
    "tags": []
   },
   "outputs": [
    {
     "data": {
      "text/plain": [
       "array([ 2.,  1.])"
      ]
     },
     "execution_count": 102,
     "metadata": {},
     "output_type": "execute_result"
    }
   ],
   "source": [
    "def fit_line(tbl):\n",
    "    # Your code may need more than 1 line below here.\n",
    "    spread = tbl.column(\"Spread\")\n",
    "    outcome = tbl.column(\"Outcome\")\n",
    "    def rmse(para):\n",
    "        slope, intercept = para\n",
    "        pre_outcome = intercept + slope * spread\n",
    "        errors = outcome - pre_outcome\n",
    "        return np.sqrt(np.mean(errors**2))\n",
    "    it = [0, 0]\n",
    "    result = minimize(rmse, it)\n",
    "    return make_array(result.x[0], result.x[1])\n",
    "    \n",
    "# Here is an example call to your function.  To test your function,\n",
    "# figure out the right slope and intercept by hand.\n",
    "example_table = Table().with_columns(\n",
    "    \"Spread\", make_array(0, 1),\n",
    "    \"Outcome\", make_array(1, 3))\n",
    "fit_line(example_table)"
   ]
  },
  {
   "cell_type": "code",
   "execution_count": 103,
   "id": "cell-hw10-73",
   "metadata": {
    "deletable": false,
    "editable": false
   },
   "outputs": [
    {
     "data": {
      "text/html": [
       "<p><strong><pre style='display: inline;'>q3_7</pre></strong> passed! 🚀</p>"
      ],
      "text/plain": [
       "q3_7 results: All test cases passed!"
      ]
     },
     "execution_count": 103,
     "metadata": {},
     "output_type": "execute_result"
    }
   ],
   "source": [
    "grader.check(\"q3_7\")"
   ]
  },
  {
   "cell_type": "markdown",
   "id": "cell-hw10-74",
   "metadata": {
    "deletable": false,
    "editable": false
   },
   "source": [
    "**Question 3.8.** Use `fit_line` to fit a line to `spreads`, and assign the output to `best_line`. Assign the first and second elements in `best_line` to `best_line_slope` and `best_line_intercept`, respectively.\n",
    "\n",
    "Then, set `new_errors` to the array of errors that we get by calling `errors` with our new line. The provided code will graph the corresponding residual plot with a best fit line. **(3 points)**\n",
    "\n",
    "*Hint:* Make sure that the residual plot makes sense. What qualities should the best fit line of a residual plot have?\n"
   ]
  },
  {
   "cell_type": "code",
   "execution_count": 105,
   "id": "cell-hw10-75",
   "metadata": {
    "tags": []
   },
   "outputs": [
    {
     "data": {
      "text/plain": [
       "'Slope: 0.953927 | Intercept: 0.220252'"
      ]
     },
     "execution_count": 105,
     "metadata": {},
     "output_type": "execute_result"
    },
    {
     "data": {
      "image/png": "[encoded data removed]",
      "text/plain": [
       "<Figure size 500x500 with 1 Axes>"
      ]
     },
     "metadata": {},
     "output_type": "display_data"
    }
   ],
   "source": [
    "best_line = fit_line(spreads)\n",
    "best_line_slope = best_line.item(0)\n",
    "best_line_intercept = best_line.item(1)\n",
    "\n",
    "new_errors = errors(spreads, best_line_slope, best_line_intercept)\n",
    "\n",
    "# This code displays the residual plot, given your values for the best_line_slope and best_line_intercept\n",
    "Table().with_columns(\"Spread\", \n",
    "                    spreads.column(\"Spread\"), \n",
    "                    \"Outcome errors\", \n",
    "                    new_errors\n",
    "                   ).scatter(\"Spread\", \"Outcome errors\", fit_line=True)\n",
    "\n",
    "# This just prints your slope and intercept\n",
    "\"Slope: {:g} | Intercept: {:g}\".format(best_line_slope, best_line_intercept)"
   ]
  },
  {
   "cell_type": "code",
   "execution_count": 106,
   "id": "cell-hw10-76",
   "metadata": {
    "deletable": false,
    "editable": false
   },
   "outputs": [
    {
     "data": {
      "text/html": [
       "<p><strong><pre style='display: inline;'>q3_8</pre></strong> passed! ✨</p>"
      ],
      "text/plain": [
       "q3_8 results: All test cases passed!"
      ]
     },
     "execution_count": 106,
     "metadata": {},
     "output_type": "execute_result"
    }
   ],
   "source": [
    "grader.check(\"q3_8\")"
   ]
  },
  {
   "cell_type": "markdown",
   "id": "cell-hw10-77",
   "metadata": {
    "deletable": false,
    "editable": false
   },
   "source": [
    "<!-- BEGIN QUESTION -->\n",
    "\n",
    "**Question 3.9.** The slope and intercept pair you found in Question 3.8 should be very similar to the values that you found in Question 3.3. Why were we able to minimize RMSE to find the same slope and intercept from the previous formulas? **(3 points)**\n"
   ]
  },
  {
   "cell_type": "markdown",
   "id": "cell-hw10-78",
   "metadata": {},
   "source": [
    "_Type your answer here, replacing this text._"
   ]
  },
  {
   "cell_type": "markdown",
   "id": "cell-hw10-79",
   "metadata": {
    "deletable": false,
    "editable": false
   },
   "source": [
    "<!-- END QUESTION -->\n",
    "\n",
    "You're done with Homework 10!  \n",
    "\n",
    "**Important submission steps:** \n",
    "1. Run the tests and verify that they all pass.\n",
    "2. Choose **Save Notebook** from the **File** menu, then **run the final cell**. \n",
    "3. Click the link to download the zip file.\n",
    "4. Then submit the zip file to the corresponding assignment according to your instructor's directions. \n",
    "\n",
    "**It is your responsibility to make sure your work is saved before running the last cell.**"
   ]
  },
  {
   "cell_type": "markdown",
   "id": "cell-hw10-80",
   "metadata": {
    "deletable": false,
    "editable": false
   },
   "source": [
    "## Submission\n",
    "\n",
    "Make sure you have run all cells in your notebook in order before running the cell below, so that all images/graphs appear in the output. The cell below will generate a zip file for you to submit. **Please save before exporting!**"
   ]
  },
  {
   "cell_type": "code",
   "execution_count": 108,
   "id": "cell-hw10-81",
   "metadata": {
    "deletable": false,
    "editable": false
   },
   "outputs": [
    {
     "name": "stdout",
     "output_type": "stream",
     "text": [
      "Running your submission against local test cases...\n",
      "\n",
      "\n",
      "Your submission received the following results when run against available test cases:\n",
      "\n",
      "    q1_1 results: All test cases passed!\n",
      "\n",
      "    q1_2 results: All test cases passed!\n",
      "\n",
      "    q1_5 results: All test cases passed!\n",
      "\n",
      "    q1_6 results: All test cases passed!\n",
      "\n",
      "    q1_7 results: All test cases passed!\n",
      "\n",
      "    q2_2 results: All test cases passed!\n",
      "\n",
      "    q2_3 results: All test cases passed!\n",
      "\n",
      "    q3_1 results: All test cases passed!\n",
      "\n",
      "    q3_2 results: All test cases passed!\n",
      "\n",
      "    q3_3 results: All test cases passed!\n",
      "\n",
      "    q3_5 results: All test cases passed!\n",
      "\n",
      "    q3_6 results: All test cases passed!\n",
      "\n",
      "    q3_7 results:\n",
      "        q3_7 - 1 result:\n",
      "            ❌ Test case failed\n",
      "            Trying:\n",
      "                type(fit_line(example_table)) == np.ndarray\n",
      "            Expecting:\n",
      "                True\n",
      "            **********************************************************************\n",
      "            Line 1, in q3_7 0\n",
      "            Failed example:\n",
      "                type(fit_line(example_table)) == np.ndarray\n",
      "            Exception raised:\n",
      "                Traceback (most recent call last):\n",
      "                  File \"c:\\Users\\ADMIN\\anaconda3\\Lib\\doctest.py\", line 1361, in __run\n",
      "                    exec(compile(example.source, filename, \"single\",\n",
      "                  File \"<doctest q3_7 0[0]>\", line 1, in <module>\n",
      "                    type(fit_line(example_table)) == np.ndarray\n",
      "                         ^^^^^^^^^^^^^^^^^^^^^^^\n",
      "                  File \"C:\\Users\\ADMIN\\AppData\\Local\\Temp\\ipykernel_75352\\3098183905.py\", line 11, in fit_line\n",
      "                    result = minimize(rmse, it)\n",
      "                             ^^^^^^^^^^^^^^^^^^\n",
      "                  File \"C:\\Users\\ADMIN\\AppData\\Roaming\\Python\\Python312\\site-packages\\datascience\\util.py\", line 243, in minimize\n",
      "                    result = optimize.minimize(objective, start, **vargs)\n",
      "                             ^^^^^^^^^^^^^^^^^^^^^^^^^^^^^^^^^^^^^^^^^^^^\n",
      "                  File \"C:\\Users\\ADMIN\\AppData\\Roaming\\Python\\Python312\\site-packages\\scipy\\optimize\\_minimize.py\", line 729, in minimize\n",
      "                    res = _minimize_powell(fun, x0, args, callback, bounds, **options)\n",
      "                          ^^^^^^^^^^^^^^^^^^^^^^^^^^^^^^^^^^^^^^^^^^^^^^^^^^^^^^^^^^^^\n",
      "                  File \"C:\\Users\\ADMIN\\AppData\\Roaming\\Python\\Python312\\site-packages\\scipy\\optimize\\_optimize.py\", line 3518, in _minimize_powell\n",
      "                    fval = func(x)\n",
      "                           ^^^^^^^\n",
      "                  File \"C:\\Users\\ADMIN\\AppData\\Roaming\\Python\\Python312\\site-packages\\scipy\\optimize\\_optimize.py\", line 542, in function_wrapper\n",
      "                    fx = function(np.copy(x), *(wrapper_args + args))\n",
      "                         ^^^^^^^^^^^^^^^^^^^^^^^^^^^^^^^^^^^^^^^^^^^^\n",
      "                  File \"C:\\Users\\ADMIN\\AppData\\Roaming\\Python\\Python312\\site-packages\\datascience\\util.py\", line 239, in objective\n",
      "                    return f(*args)\n",
      "                           ^^^^^^^^\n",
      "                TypeError: fit_line.<locals>.rmse() takes 1 positional argument but 2 were given\n",
      "\n",
      "        q3_7 - 2 result:\n",
      "            ❌ Test case failed\n",
      "            Trying:\n",
      "                type(fit_line(example_table).item(0)) in set([float, np.float32, np.float64])\n",
      "            Expecting:\n",
      "                True\n",
      "            **********************************************************************\n",
      "            Line 1, in q3_7 1\n",
      "            Failed example:\n",
      "                type(fit_line(example_table).item(0)) in set([float, np.float32, np.float64])\n",
      "            Exception raised:\n",
      "                Traceback (most recent call last):\n",
      "                  File \"c:\\Users\\ADMIN\\anaconda3\\Lib\\doctest.py\", line 1361, in __run\n",
      "                    exec(compile(example.source, filename, \"single\",\n",
      "                  File \"<doctest q3_7 1[0]>\", line 1, in <module>\n",
      "                    type(fit_line(example_table).item(0)) in set([float, np.float32, np.float64])\n",
      "                         ^^^^^^^^^^^^^^^^^^^^^^^\n",
      "                  File \"C:\\Users\\ADMIN\\AppData\\Local\\Temp\\ipykernel_75352\\3098183905.py\", line 11, in fit_line\n",
      "                    result = minimize(rmse, it)\n",
      "                             ^^^^^^^^^^^^^^^^^^\n",
      "                  File \"C:\\Users\\ADMIN\\AppData\\Roaming\\Python\\Python312\\site-packages\\datascience\\util.py\", line 243, in minimize\n",
      "                    result = optimize.minimize(objective, start, **vargs)\n",
      "                             ^^^^^^^^^^^^^^^^^^^^^^^^^^^^^^^^^^^^^^^^^^^^\n",
      "                  File \"C:\\Users\\ADMIN\\AppData\\Roaming\\Python\\Python312\\site-packages\\scipy\\optimize\\_minimize.py\", line 729, in minimize\n",
      "                    res = _minimize_powell(fun, x0, args, callback, bounds, **options)\n",
      "                          ^^^^^^^^^^^^^^^^^^^^^^^^^^^^^^^^^^^^^^^^^^^^^^^^^^^^^^^^^^^^\n",
      "                  File \"C:\\Users\\ADMIN\\AppData\\Roaming\\Python\\Python312\\site-packages\\scipy\\optimize\\_optimize.py\", line 3518, in _minimize_powell\n",
      "                    fval = func(x)\n",
      "                           ^^^^^^^\n",
      "                  File \"C:\\Users\\ADMIN\\AppData\\Roaming\\Python\\Python312\\site-packages\\scipy\\optimize\\_optimize.py\", line 542, in function_wrapper\n",
      "                    fx = function(np.copy(x), *(wrapper_args + args))\n",
      "                         ^^^^^^^^^^^^^^^^^^^^^^^^^^^^^^^^^^^^^^^^^^^^\n",
      "                  File \"C:\\Users\\ADMIN\\AppData\\Roaming\\Python\\Python312\\site-packages\\datascience\\util.py\", line 239, in objective\n",
      "                    return f(*args)\n",
      "                           ^^^^^^^^\n",
      "                TypeError: fit_line.<locals>.rmse() takes 1 positional argument but 2 were given\n",
      "\n",
      "    q3_8 results:\n",
      "        q3_8 - 1 result:\n",
      "            ❌ Test case failed\n",
      "            Trying:\n",
      "                len(new_errors) == 1230\n",
      "            Expecting:\n",
      "                True\n",
      "            **********************************************************************\n",
      "            Line 1, in q3_8 0\n",
      "            Failed example:\n",
      "                len(new_errors) == 1230\n",
      "            Exception raised:\n",
      "                Traceback (most recent call last):\n",
      "                  File \"c:\\Users\\ADMIN\\anaconda3\\Lib\\doctest.py\", line 1361, in __run\n",
      "                    exec(compile(example.source, filename, \"single\",\n",
      "                  File \"<doctest q3_8 0[0]>\", line 1, in <module>\n",
      "                    len(new_errors) == 1230\n",
      "                        ^^^^^^^^^^\n",
      "                NameError: name 'new_errors' is not defined\n"
     ]
    },
    {
     "data": {
      "text/html": [
       "\n",
       "                    <p>\n",
       "                        Your submission has been exported. Click\n",
       "                        <a href=\"hw10_2025_04_21T17_59_21_829115.zip\" download=\"hw10_2025_04_21T17_59_21_829115.zip\" target=\"_blank\">here</a> to download\n",
       "                        the zip file.\n",
       "                    </p>\n",
       "                "
      ],
      "text/plain": [
       "<IPython.core.display.HTML object>"
      ]
     },
     "metadata": {},
     "output_type": "display_data"
    }
   ],
   "source": [
    "# Save your notebook first, then run this cell to export your submission.\n",
    "grader.export(pdf=False,run_tests=True)"
   ]
  },
  {
   "cell_type": "markdown",
   "id": "cell-hw10-82",
   "metadata": {},
   "source": [
    " "
   ]
  }
 ],
 "metadata": {
  "kernelspec": {
   "display_name": "base",
   "language": "python",
   "name": "python3"
  },
  "language_info": {
   "codemirror_mode": {
    "name": "ipython",
    "version": 3
   },
   "file_extension": ".py",
   "mimetype": "text/x-python",
   "name": "python",
   "nbconvert_exporter": "python",
   "pygments_lexer": "ipython3",
   "version": "3.12.3"
  },
  "otter": {
   "OK_FORMAT": true,
   "tests": {
    "q1_1": {
     "name": "q1_1",
     "points": [
      0,
      0,
      0
     ],
     "suites": [
      {
       "cases": [
        {
         "code": ">>> standard_units([1, 2, 3, 4, 5])\narray([-1.41421356, -0.70710678,  0.        ,  0.70710678,  1.41421356])",
         "hidden": false,
         "locked": false
        },
        {
         "code": ">>> np.isclose(np.mean(standard_units([1, 2, 3, 4, 5])), 0)\nTrue",
         "hidden": false,
         "locked": false
        },
        {
         "code": ">>> np.isclose(np.std(standard_units([1, 2, 3, 4, 5])), 0.9999999999999999)\nTrue",
         "hidden": false,
         "locked": false
        }
       ],
       "scored": true,
       "setup": "",
       "teardown": "",
       "type": "doctest"
      }
     ]
    },
    "q1_2": {
     "name": "q1_2",
     "points": [
      0
     ],
     "suites": [
      {
       "cases": [
        {
         "code": ">>> np.isclose(correlation([1, 2, 3], [4, 5, 6]), 0.9999999999999999)\nTrue",
         "hidden": false,
         "locked": false
        }
       ],
       "scored": true,
       "setup": "",
       "teardown": "",
       "type": "doctest"
      }
     ]
    },
    "q1_5": {
     "name": "q1_5",
     "points": [
      0,
      0,
      0
     ],
     "suites": [
      {
       "cases": [
        {
         "code": ">>> len(parameters) == 3\nTrue",
         "hidden": false,
         "locked": false
        },
        {
         "code": ">>> type(parameters) == np.ndarray\nTrue",
         "hidden": false,
         "locked": false
        },
        {
         "code": ">>> np.isclose(parameters.item(0), 0.8343076972837598)\nTrue",
         "hidden": false,
         "locked": false
        }
       ],
       "scored": true,
       "setup": "",
       "teardown": "",
       "type": "doctest"
      }
     ]
    },
    "q1_6": {
     "name": "q1_6",
     "points": [
      0,
      0
     ],
     "suites": [
      {
       "cases": [
        {
         "code": ">>> len(regression_changes) == 3 and type(regression_changes) == np.ndarray\nTrue",
         "hidden": false,
         "locked": false
        },
        {
         "code": ">>> regression_changes.item(0) in set([0, 1, False, True])\nTrue",
         "hidden": false,
         "locked": false
        }
       ],
       "scored": true,
       "setup": "",
       "teardown": "",
       "type": "doctest"
      }
     ]
    },
    "q1_7": {
     "name": "q1_7",
     "points": [
      0
     ],
     "suites": [
      {
       "cases": [
        {
         "code": ">>> 100 <= triple_record_vert_est <= 200\nTrue",
         "hidden": false,
         "locked": false
        }
       ],
       "scored": true,
       "setup": "",
       "teardown": "",
       "type": "doctest"
      }
     ]
    },
    "q2_2": {
     "name": "q2_2",
     "points": [
      0,
      0
     ],
     "suites": [
      {
       "cases": [
        {
         "code": ">>> -1 <= r <= 1\nTrue",
         "hidden": false,
         "locked": false
        },
        {
         "code": ">>> standard_units(np.arange(5)) is None or np.allclose(standard_units(np.arange(5)), [-1.41421356, -0.70710678, 0, 0.70710678, 1.41421356])\nTrue",
         "hidden": false,
         "locked": false
        }
       ],
       "scored": true,
       "setup": "",
       "teardown": "",
       "type": "doctest"
      }
     ]
    },
    "q2_3": {
     "name": "q2_3",
     "points": [
      0
     ],
     "suites": [
      {
       "cases": [
        {
         "code": ">>> 0 < eth_predictor(10) < 100\nTrue",
         "hidden": false,
         "locked": false
        }
       ],
       "scored": true,
       "setup": "",
       "teardown": "",
       "type": "doctest"
      }
     ]
    },
    "q3_1": {
     "name": "q3_1",
     "points": [
      0
     ],
     "suites": [
      {
       "cases": [
        {
         "code": ">>> -1 <= spread_r <= 1\nTrue",
         "hidden": false,
         "locked": false
        }
       ],
       "scored": true,
       "setup": "",
       "teardown": "",
       "type": "doctest"
      }
     ]
    },
    "q3_2": {
     "name": "q3_2",
     "points": [
      0
     ],
     "suites": [
      {
       "cases": [
        {
         "code": ">>> 4 <= spread_5_outcome_average <= 6\nTrue",
         "hidden": false,
         "locked": false
        }
       ],
       "scored": true,
       "setup": "",
       "teardown": "",
       "type": "doctest"
      }
     ]
    },
    "q3_3": {
     "name": "q3_3",
     "points": [
      0,
      0
     ],
     "suites": [
      {
       "cases": [
        {
         "code": ">>> 0 <= spread_slope < 1\nTrue",
         "hidden": false,
         "locked": false
        },
        {
         "code": ">>> spread_intercept > 0\nTrue",
         "hidden": false,
         "locked": false
        }
       ],
       "scored": true,
       "setup": "",
       "teardown": "",
       "type": "doctest"
      }
     ]
    },
    "q3_5": {
     "name": "q3_5",
     "points": [
      0,
      0
     ],
     "suites": [
      {
       "cases": [
        {
         "code": ">>> type(errors(spreads, 0, 0).item(0)) in set([float, np.float32, np.float64])\nTrue",
         "hidden": false,
         "locked": false
        },
        {
         "code": ">>> len(errors(spreads, 0, 0)) == 1230\nTrue",
         "hidden": false,
         "locked": false
        }
       ],
       "scored": true,
       "setup": "",
       "teardown": "",
       "type": "doctest"
      }
     ]
    },
    "q3_6": {
     "name": "q3_6",
     "points": [
      3
     ],
     "suites": [
      {
       "cases": [
        {
         "code": ">>> np.round(outcome_errors.item(0), 2) == -25.25\nTrue",
         "hidden": false,
         "locked": false
        }
       ],
       "scored": true,
       "setup": "",
       "teardown": "",
       "type": "doctest"
      }
     ]
    },
    "q3_7": {
     "name": "q3_7",
     "points": [
      0,
      0
     ],
     "suites": [
      {
       "cases": [
        {
         "code": ">>> type(fit_line(example_table)) == np.ndarray\nTrue",
         "hidden": false,
         "locked": false
        },
        {
         "code": ">>> type(fit_line(example_table).item(0)) in set([float, np.float32, np.float64])\nTrue",
         "hidden": false,
         "locked": false
        }
       ],
       "scored": true,
       "setup": "",
       "teardown": "",
       "type": "doctest"
      }
     ]
    },
    "q3_8": {
     "name": "q3_8",
     "points": [
      0
     ],
     "suites": [
      {
       "cases": [
        {
         "code": ">>> len(new_errors) == 1230\nTrue",
         "hidden": false,
         "locked": false
        }
       ],
       "scored": true,
       "setup": "",
       "teardown": "",
       "type": "doctest"
      }
     ]
    }
   }
  }
 },
 "nbformat": 4,
 "nbformat_minor": 5
}
