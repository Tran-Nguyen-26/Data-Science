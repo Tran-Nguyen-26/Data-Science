simulated_tvds = make_array()
for i in range(10000):
    simulated_sample = sample_proportions(1000, null_distribution)  # Simulate proportions
    simulated_tvds = np.append(simulated_tvds, calculate_tvd(simulated_sample, null_distribution))import numpy as np

# File: hw/hw07/test_hw07.ipynb
from hw.hw07.hw07 import simulated_tvds  # Import the variable to test

def test_simulated_tvds_length():
    """Test if simulated_tvds has the correct length."""
    assert len(simulated_tvds) == 10000, "simulated_tvds should have 10,000 elements."

def test_simulated_tvds_non_negative():
    """Test if all values in simulated_tvds are non-negative."""
    assert np.all(simulated_tvds >= 0), "All values in simulated_tvds should be non-negative."

def test_simulated_tvds_mean():
    """Test if the mean of simulated_tvds is less than 0.1."""
    assert np.mean(simulated_tvds) < 0.1, "The mean of simulated_tvds should be less than 0.1."