{
 "cells": [
  {
   "cell_type": "code",
   "execution_count": 2,
   "id": "cell-hw11-0",
   "metadata": {
    "deletable": false,
    "editable": false
   },
   "outputs": [],
   "source": [
    "# Initialize Otter\n",
    "import otter\n",
    "grader = otter.Notebook(\"hw11.ipynb\")"
   ]
  },
  {
   "cell_type": "markdown",
   "id": "cell-hw11-1",
   "metadata": {},
   "source": [
    "# Homework 11: Regression Inference"
   ]
  },
  {
   "cell_type": "markdown",
   "id": "cell-hw11-2",
   "metadata": {},
   "source": [
    "**Helpful Resource:**\n",
    "\n",
    "- [Python Reference](http://data8.org/sp22/python-reference.html): Cheat sheet of helpful array & table methods used in Data 8!\n",
    "\n",
    "**Recommended Reading**: \n",
    "\n",
    "* [Using Confidence Intervals](https://inferentialthinking.com/chapters/13/4/Using_Confidence_Intervals.html)\n",
    "* [The Regression Line](https://inferentialthinking.com/chapters/15/2/Regression_Line.html#the-regression-line-in-standard-units)\n",
    "* [Inference for Regression](https://www.inferentialthinking.com/chapters/16/Inference_for_Regression.html)"
   ]
  },
  {
   "cell_type": "markdown",
   "id": "cell-hw11-3",
   "metadata": {},
   "source": [
    "Please complete this notebook by filling in the cells provided. Before you begin, execute the following cell to setup the notebook by importing some helpful libraries. Each time you start your server, you will need to execute this cell again.\n",
    "\n",
    "For all problems that you must write explanations and sentences for, you **must** provide your answer in the designated space. **Moreover, throughout this homework and all future ones, please be sure to not re-assign variables throughout the notebook!** For example, if you use `max_temperature` in your answer to one question, do not reassign it later on. Otherwise, you will fail tests that you thought you were passing previously!\n",
    "\n",
    "\n",
    "**Note: This homework has hidden tests on it. That means even though the tests may say 100% passed, it doesn't mean your final grade will be 100%. We will be running more tests for correctness once everyone turns in the homework.**\n",
    "\n",
    "\n",
    "Directly sharing answers is not okay, but discussing problems with the course staff or with other students is encouraged. \n",
    "\n",
    "You should start early so that you have time to get help if you're stuck."
   ]
  },
  {
   "cell_type": "code",
   "execution_count": 3,
   "id": "cell-hw11-4",
   "metadata": {},
   "outputs": [],
   "source": [
    "# Don't change this cell; just run it. \n",
    "\n",
    "import numpy as np\n",
    "from datascience import *\n",
    "\n",
    "# These lines do some fancy plotting magic\n",
    "import matplotlib\n",
    "%matplotlib inline\n",
    "import matplotlib.pyplot as plt\n",
    "plt.style.use('fivethirtyeight')\n",
    "import warnings\n",
    "warnings.simplefilter('ignore')\n",
    "from datetime import datetime"
   ]
  },
  {
   "cell_type": "markdown",
   "id": "cell-hw11-5",
   "metadata": {},
   "source": [
    "## An Introduction to Regression Inference"
   ]
  },
  {
   "cell_type": "markdown",
   "id": "cell-hw11-6",
   "metadata": {},
   "source": [
    "Previously in this class, we've used confidence intervals to quantify uncertainty about estimates. We can also run hypothesis tests using a confidence interval under the following procedure:\n",
    "\n",
    "1. Define a null and alternative hypothesis (they must be of the form \"The parameter is X\" and \"The parameter is not X\").\n",
    "2. Choose a p-value cutoff, and call it $q$.\n",
    "3. Construct a $(100-q)\\%$ interval using bootstrap sampling (for example, if your p-value cutoff is 0.01, or 1%, then construct a 99% confidence interval).\n",
    "4. Using the confidence interval, determine if your data are more consistent with your null or alternative hypothesis:\n",
    "   * If the null hypothesis parameter X is in your confidence interval, the data are more consistent with the null hypothesis.\n",
    "   * If the null hypothesis parameter X is *not* in your confidence interval, the data are more consistent with the alternative hypothesis.\n",
    "\n",
    "More recently, we've discussed the use of linear regression to make predictions based on correlated variables. For example, we can predict the height of children based on the heights of their parents.\n",
    "\n",
    "We can combine these two topics to make powerful statements about our population by using the following techniques:\n",
    "\n",
    "- Bootstrapped interval for the true slope\n",
    "- Bootstrapped prediction interval for y (given a particular value of x)\n",
    "\n",
    "This homework explores these two methods."
   ]
  },
  {
   "cell_type": "markdown",
   "id": "cell-hw11-7",
   "metadata": {},
   "source": [
    "## The Data\n",
    "The [Snowy Plover](https://www.audubon.org/field-guide/bird/snowy-plover) is a tiny bird that lives on the coast in parts of California and elsewhere. It is so small that it is vulnerable to many predators, including people and dogs that don't look where they are stepping when they go to the beach. It is considered endangered in many parts of the U.S.\n",
    "\n",
    "The data are about the eggs and newly-hatched chicks of the Snowy Plover. Here's a picture of [a parent bird incubating its eggs](http://cescos.fau.edu/jay/eps/articles/snowyplover.html).\n",
    "\n",
    "<img src=\"plover_and_eggs.jpeg\" alt=\"Plover and Eggs\">\n",
    "\n",
    "The data were collected at the Point Reyes National Seashore by a former [student at Berkeley](https://openlibrary.org/books/OL2038693M/BLSS_the_Berkeley_interactive_statistical_system). The goal was to see how the size of an egg could be used to predict the weight of the resulting chick. The bigger the newly-hatched chick, the more likely it is to survive.\n",
    "\n",
    "<img src=\"plover_and_chick.jpeg\" alt=\"Plover and Chick\">\n",
    "\n",
    "Each row of the table below corresponds to one Snowy Plover egg and the resulting chick. Note how tiny the bird is:\n",
    "\n",
    "- `Egg Length` and `Egg Breadth` (widest diameter) are measured in millimeters\n",
    "- `Egg Weight` and `Bird Weight` are measured in grams; for comparison, a standard paper clip weighs about one gram"
   ]
  },
  {
   "cell_type": "code",
   "execution_count": 4,
   "id": "cell-hw11-8",
   "metadata": {},
   "outputs": [
    {
     "data": {
      "text/html": [
       "<table border=\"1\" class=\"dataframe\">\n",
       "    <thead>\n",
       "        <tr>\n",
       "            <th>Egg Length</th> <th>Egg Breadth</th> <th>Egg Weight</th> <th>Bird Weight</th>\n",
       "        </tr>\n",
       "    </thead>\n",
       "    <tbody>\n",
       "        <tr>\n",
       "            <td>28.8      </td> <td>21.84      </td> <td>7.4       </td> <td>5.2        </td>\n",
       "        </tr>\n",
       "        <tr>\n",
       "            <td>29.04     </td> <td>22.45      </td> <td>7.7       </td> <td>5.4        </td>\n",
       "        </tr>\n",
       "        <tr>\n",
       "            <td>29.36     </td> <td>22.48      </td> <td>7.9       </td> <td>5.6        </td>\n",
       "        </tr>\n",
       "        <tr>\n",
       "            <td>30.1      </td> <td>21.71      </td> <td>7.5       </td> <td>5.3        </td>\n",
       "        </tr>\n",
       "        <tr>\n",
       "            <td>30.17     </td> <td>22.75      </td> <td>8.3       </td> <td>5.9        </td>\n",
       "        </tr>\n",
       "        <tr>\n",
       "            <td>30.34     </td> <td>22.84      </td> <td>8.5       </td> <td>5.8        </td>\n",
       "        </tr>\n",
       "        <tr>\n",
       "            <td>30.36     </td> <td>22.5       </td> <td>8.2       </td> <td>5.8        </td>\n",
       "        </tr>\n",
       "        <tr>\n",
       "            <td>30.46     </td> <td>22.72      </td> <td>8.3       </td> <td>6          </td>\n",
       "        </tr>\n",
       "        <tr>\n",
       "            <td>30.54     </td> <td>23.31      </td> <td>9         </td> <td>6.1        </td>\n",
       "        </tr>\n",
       "        <tr>\n",
       "            <td>30.62     </td> <td>22.94      </td> <td>8.5       </td> <td>6.2        </td>\n",
       "        </tr>\n",
       "    </tbody>\n",
       "</table>\n",
       "<p>... (34 rows omitted)</p>"
      ],
      "text/plain": [
       "Egg Length | Egg Breadth | Egg Weight | Bird Weight\n",
       "28.8       | 21.84       | 7.4        | 5.2\n",
       "29.04      | 22.45       | 7.7        | 5.4\n",
       "29.36      | 22.48       | 7.9        | 5.6\n",
       "30.1       | 21.71       | 7.5        | 5.3\n",
       "30.17      | 22.75       | 8.3        | 5.9\n",
       "30.34      | 22.84       | 8.5        | 5.8\n",
       "30.36      | 22.5        | 8.2        | 5.8\n",
       "30.46      | 22.72       | 8.3        | 6\n",
       "30.54      | 23.31       | 9          | 6.1\n",
       "30.62      | 22.94       | 8.5        | 6.2\n",
       "... (34 rows omitted)"
      ]
     },
     "execution_count": 4,
     "metadata": {},
     "output_type": "execute_result"
    }
   ],
   "source": [
    "birds = Table.read_table('snowy_plover.csv')\n",
    "birds"
   ]
  },
  {
   "cell_type": "markdown",
   "id": "cell-hw11-9",
   "metadata": {},
   "source": [
    "In this investigation, we will be using the egg weight to predict bird weight. Run the cell below to create a scatter plot of the egg weights and bird weights, along with their line of best fit."
   ]
  },
  {
   "cell_type": "code",
   "execution_count": 5,
   "id": "cell-hw11-10",
   "metadata": {},
   "outputs": [
    {
     "data": {
      "image/png": "[encoded data removed]",
      "text/plain": [
       "<Figure size 500x500 with 1 Axes>"
      ]
     },
     "metadata": {},
     "output_type": "display_data"
    }
   ],
   "source": [
    "# Just run this cell and examine the scatter plot.\n",
    "birds.scatter('Egg Weight', \"Bird Weight\", fit_line=True)"
   ]
  },
  {
   "cell_type": "markdown",
   "id": "cell-hw11-11",
   "metadata": {},
   "source": [
    "## 1. Finding the Bootstrap Confidence Interval for the True Slope\n",
    "\n",
    "Looking at the scatter plot of our sample, we observe a linear relationship between egg weight and bird weight. However, relationships that appear in a sample might not exist in the population from which the sample was taken.\n",
    "\n",
    "We want to know if there truly exists a linear relationship between egg weight and bird weight for Snowy Plovers. If there is no linear relationship between the two variables, then we'd expect a correlation of 0. Consequently, the slope of the regression line would also be 0. "
   ]
  },
  {
   "cell_type": "markdown",
   "id": "cell-hw11-12",
   "metadata": {
    "deletable": false,
    "editable": false
   },
   "source": [
    "<!-- BEGIN QUESTION -->\n",
    "\n",
    "**Question 1.1.** Let's run a hypothesis test using confidence intervals to see if there is a linear relationship between egg weight and bird weight. Define the null and alternative hypotheses that will allow you to conduct this test. **(8 points)**\n",
    "\n",
    "*Note:* Please write your answer **in the cell below** in the following format:\n",
    "- **Null Hypothesis:**\n",
    "- **Alternative Hypothesis:**\n",
    "\n",
    "\n"
   ]
  },
  {
   "cell_type": "markdown",
   "id": "cell-hw11-13",
   "metadata": {},
   "source": [
    "_Type your answer here, replacing this text._"
   ]
  },
  {
   "cell_type": "markdown",
   "id": "cell-hw11-14",
   "metadata": {
    "deletable": false,
    "editable": false
   },
   "source": [
    "<!-- END QUESTION -->\n",
    "\n",
    "**Question 1.2.** Define the following two functions:\n",
    "\n",
    "1. `standard_units`: This function takes in an array of numbers and returns an array containing those numbers converted to standard units.\n",
    "2. `correlation`: This function takes in a table and two column names (one for *x* and one for *y*) and returns the correlation between these columns. \n",
    "\n",
    "**(8 points)**\n"
   ]
  },
  {
   "cell_type": "code",
   "execution_count": 8,
   "id": "cell-hw11-15",
   "metadata": {
    "ExecuteTime": {
     "end_time": "2018-04-11T12:05:50.894154Z",
     "start_time": "2018-04-11T12:05:50.889145Z"
    },
    "deletable": false,
    "tags": []
   },
   "outputs": [],
   "source": [
    "def standard_units(arr):\n",
    "    avg = np.mean(arr)\n",
    "    st = np.std(arr)\n",
    "    return (arr - avg)/st\n",
    "\n",
    "def correlation(tbl, x_col, y_col):\n",
    "    x = tbl[x_col]\n",
    "    y = tbl[y_col]\n",
    "    x_standard_units = standard_units(x)\n",
    "    y_standard_units = standard_units(y)\n",
    "    return np.mean(x_standard_units * y_standard_units)"
   ]
  },
  {
   "cell_type": "code",
   "execution_count": 9,
   "id": "cell-hw11-16",
   "metadata": {
    "deletable": false,
    "editable": false
   },
   "outputs": [
    {
     "data": {
      "text/html": [
       "<p><strong><pre style='display: inline;'>q1_2</pre></strong> passed! 🌈</p>"
      ],
      "text/plain": [
       "q1_2 results: All test cases passed!"
      ]
     },
     "execution_count": 9,
     "metadata": {},
     "output_type": "execute_result"
    }
   ],
   "source": [
    "grader.check(\"q1_2\")"
   ]
  },
  {
   "cell_type": "markdown",
   "id": "cell-hw11-17",
   "metadata": {
    "deletable": false,
    "editable": false
   },
   "source": [
    "**Question 1.3.** Using the functions you just implemented, create a function called `fit_line`.  It should take a table like `birds` and the column names associated to *x* and *y* as its arguments and return an *array* containing the slope and intercept of the regression line (in that order) that predicts the *y* column in the table using the *x* column. **(8 points)**\n"
   ]
  },
  {
   "cell_type": "code",
   "execution_count": 12,
   "id": "cell-hw11-18",
   "metadata": {
    "ExecuteTime": {
     "end_time": "2018-04-11T12:05:51.483516Z",
     "start_time": "2018-04-11T12:05:51.472484Z"
    },
    "for_assignment_type": "solution",
    "tags": []
   },
   "outputs": [
    {
     "data": {
      "text/plain": [
       "array([ 0.71851534, -0.05827226])"
      ]
     },
     "execution_count": 12,
     "metadata": {},
     "output_type": "execute_result"
    }
   ],
   "source": [
    "def fit_line(tbl, x_col, y_col):\n",
    "    x = tbl[x_col]\n",
    "    y = tbl[y_col]\n",
    "    r = correlation(tbl, x_col, y_col)\n",
    "    slope = r * np.std(y) / np.std(x)\n",
    "    intercept = np.mean(y) - slope * np.mean(x)\n",
    "    return make_array(slope, intercept)\n",
    "\n",
    "fit_line(birds, \"Egg Weight\", \"Bird Weight\")"
   ]
  },
  {
   "cell_type": "code",
   "execution_count": 13,
   "id": "cell-hw11-19",
   "metadata": {
    "deletable": false,
    "editable": false
   },
   "outputs": [
    {
     "data": {
      "text/html": [
       "<p><strong><pre style='display: inline;'>q1_3</pre></strong> passed! ✨</p>"
      ],
      "text/plain": [
       "q1_3 results: All test cases passed!"
      ]
     },
     "execution_count": 13,
     "metadata": {},
     "output_type": "execute_result"
    }
   ],
   "source": [
    "grader.check(\"q1_3\")"
   ]
  },
  {
   "cell_type": "markdown",
   "id": "cell-hw11-20",
   "metadata": {},
   "source": [
    "**Run** this cell to plot the line produced by calling `fit_line` on the `birds` table.  \n",
    "\n",
    "**Note:** You are not responsible for the code in the cell below, but make sure that your `fit_line` function generated a reasonable line for the data."
   ]
  },
  {
   "cell_type": "code",
   "execution_count": 14,
   "id": "cell-hw11-21",
   "metadata": {
    "ExecuteTime": {
     "end_time": "2018-04-11T12:05:51.754766Z",
     "start_time": "2018-04-11T12:05:51.624390Z"
    }
   },
   "outputs": [
    {
     "data": {
      "image/png": "[encoded data removed]",
      "text/plain": [
       "<Figure size 500x500 with 1 Axes>"
      ]
     },
     "metadata": {},
     "output_type": "display_data"
    }
   ],
   "source": [
    "# Ensure your fit_line function fits a reasonable line \n",
    "# to the data in birds, using the plot below.\n",
    "\n",
    "# Just run this cell\n",
    "slope, intercept = fit_line(birds, \"Egg Weight\", \"Bird Weight\")\n",
    "birds.scatter(\"Egg Weight\", \"Bird Weight\")\n",
    "plt.plot([min(birds.column(\"Egg Weight\")), max(birds.column(\"Egg Weight\"))], \n",
    "         [slope*min(birds.column(\"Egg Weight\"))+intercept, slope*max(birds.column(\"Egg Weight\"))+intercept])\n",
    "plt.show()"
   ]
  },
  {
   "cell_type": "markdown",
   "id": "cell-hw11-22",
   "metadata": {},
   "source": [
    "Now we have all the tools we need to create a confidence interval that quantifies our uncertainty about the true relationship between egg weight and bird weight."
   ]
  },
  {
   "cell_type": "markdown",
   "id": "cell-hw11-23",
   "metadata": {
    "deletable": false,
    "editable": false
   },
   "source": [
    "<!-- BEGIN QUESTION -->\n",
    "\n",
    "**Question 1.4.** Create an array called `resampled_slopes` that contains the slope of the best fit line for 1000 bootstrap resamples of `birds`. Plot the distribution of these slopes. **(8 points)**\n"
   ]
  },
  {
   "cell_type": "code",
   "execution_count": 17,
   "id": "cell-hw11-24",
   "metadata": {
    "for_assignment_type": "solution",
    "tags": []
   },
   "outputs": [
    {
     "data": {
      "image/png": "[encoded data removed]",
      "text/plain": [
       "<Figure size 600x400 with 1 Axes>"
      ]
     },
     "metadata": {},
     "output_type": "display_data"
    }
   ],
   "source": [
    "resampled_slopes = []\n",
    "\n",
    "for i in np.arange(1000): \n",
    "    birds_bootstrap = birds.sample(with_replacement=True)\n",
    "    bootstrap_line = fit_line(birds_bootstrap, \"Egg Weight\", \"Bird Weight\")\n",
    "    bootstrap_slope = bootstrap_line[0]\n",
    "    resampled_slopes.append(bootstrap_slope)\n",
    "    \n",
    "# DO NOT CHANGE THIS LINE\n",
    "Table().with_column(\"Slope estimate\", resampled_slopes).hist()"
   ]
  },
  {
   "cell_type": "code",
   "execution_count": 18,
   "id": "cell-hw11-25",
   "metadata": {
    "deletable": false,
    "editable": false
   },
   "outputs": [
    {
     "data": {
      "text/html": [
       "<p><strong><pre style='display: inline;'>q1_4</pre></strong> passed! 🚀</p>"
      ],
      "text/plain": [
       "q1_4 results: All test cases passed!"
      ]
     },
     "execution_count": 18,
     "metadata": {},
     "output_type": "execute_result"
    }
   ],
   "source": [
    "grader.check(\"q1_4\")"
   ]
  },
  {
   "cell_type": "markdown",
   "id": "cell-hw11-26",
   "metadata": {
    "deletable": false,
    "editable": false
   },
   "source": [
    "<!-- END QUESTION -->\n",
    "\n",
    "**Question 1.5.** Use your resampled slopes to construct an 95% confidence interval for the true value of the slope. **(8 points)**\n"
   ]
  },
  {
   "cell_type": "code",
   "execution_count": 19,
   "id": "cell-hw11-27",
   "metadata": {
    "ExecuteTime": {
     "end_time": "2018-04-11T12:05:53.077324Z",
     "start_time": "2018-04-11T12:05:53.072310Z"
    },
    "deletable": false,
    "tags": []
   },
   "outputs": [
    {
     "name": "stdout",
     "output_type": "stream",
     "text": [
      "95% confidence interval for slope: [0.59927, 0.819213]\n"
     ]
    }
   ],
   "source": [
    "lower_end = np.percentile(resampled_slopes, 2.5)\n",
    "upper_end = np.percentile(resampled_slopes, 97.5)\n",
    "print(\"95% confidence interval for slope: [{:g}, {:g}]\".format(lower_end, upper_end))"
   ]
  },
  {
   "cell_type": "code",
   "execution_count": 20,
   "id": "cell-hw11-28",
   "metadata": {
    "deletable": false,
    "editable": false
   },
   "outputs": [
    {
     "data": {
      "text/html": [
       "<p><strong><pre style='display: inline;'>q1_5</pre></strong> passed! 🌈</p>"
      ],
      "text/plain": [
       "q1_5 results: All test cases passed!"
      ]
     },
     "execution_count": 20,
     "metadata": {},
     "output_type": "execute_result"
    }
   ],
   "source": [
    "grader.check(\"q1_5\")"
   ]
  },
  {
   "cell_type": "markdown",
   "id": "cell-hw11-29",
   "metadata": {
    "deletable": false,
    "editable": false
   },
   "source": [
    "<!-- BEGIN QUESTION -->\n",
    "\n",
    "**Question 1.6.** Based on your confidence interval, would you accept or reject the null hypothesis that the true slope is 0?  Why?  What p-value cutoff are you using? **(8 points)**\n"
   ]
  },
  {
   "cell_type": "markdown",
   "id": "cell-hw11-30",
   "metadata": {},
   "source": [
    "_Type your answer here, replacing this text._"
   ]
  },
  {
   "cell_type": "markdown",
   "id": "cell-hw11-31",
   "metadata": {
    "deletable": false,
    "editable": false
   },
   "source": [
    "<!-- END QUESTION -->\n",
    "\n",
    "<!-- BEGIN QUESTION -->\n",
    "\n",
    "**Question 1.7.** What do you think the true slope is? You do not need an exact number. How confident are you of this estimate? **(8 points)**\n",
    "\n",
    "*Hint:* Can you provide an interval that you think the true slope falls in?\n"
   ]
  },
  {
   "cell_type": "markdown",
   "id": "cell-hw11-32",
   "metadata": {},
   "source": [
    "_Type your answer here, replacing this text._"
   ]
  },
  {
   "cell_type": "markdown",
   "id": "cell-hw11-33",
   "metadata": {
    "deletable": false,
    "editable": false
   },
   "source": [
    "<!-- END QUESTION -->\n",
    "\n",
    "## 2. Finding the Bootstrap Prediction Interval"
   ]
  },
  {
   "cell_type": "markdown",
   "id": "cell-hw11-34",
   "metadata": {},
   "source": [
    "Suppose we're visiting Point Reyes and stumble upon some Snowy Plover eggs; we'd like to know how heavy they'll be once they hatch. In other words, we want to use our regression line to make predictions about a bird's weight based on the weight of the corresponding egg.\n",
    "\n",
    "However, just as we're uncertain about the slope of the true regression line, we're also uncertain about the predictions made based on the true regression line."
   ]
  },
  {
   "cell_type": "markdown",
   "id": "cell-hw11-35",
   "metadata": {
    "deletable": false,
    "editable": false
   },
   "source": [
    "**Question 2.1.** Define the function `fitted_value`.  It should take in four arguments:\n",
    "\n",
    "1. `table`: a table like `birds`.  We'll be predicting the values in the second column using the first.\n",
    "2. `x_col`: the name of our x-column within the input `table`\n",
    "3. `y_col`: the name of our y-column within the input `table`\n",
    "2. `given_x`: a number, the value of the predictor variable for which we'd like to make a prediction.\n",
    "  \n",
    "The function should return the line’s prediction for the given x. **(8 points)**\n",
    "\n",
    "*Hint:* Make sure to use the `fit_line` function you defined in Question 1.3.\n"
   ]
  },
  {
   "cell_type": "code",
   "execution_count": 25,
   "id": "cell-hw11-36",
   "metadata": {
    "ExecuteTime": {
     "end_time": "2018-04-11T12:05:53.935846Z",
     "start_time": "2018-04-11T12:05:53.927826Z"
    },
    "for_assignment_type": "solution",
    "tags": []
   },
   "outputs": [
    {
     "data": {
      "text/plain": [
       "5.6898504972151462"
      ]
     },
     "execution_count": 25,
     "metadata": {},
     "output_type": "execute_result"
    }
   ],
   "source": [
    "def fitted_value(table, x_col, y_col, given_x):\n",
    "    line = fit_line(table, x_col, y_col)\n",
    "    slope = line[0]\n",
    "    intercept = line[1]\n",
    "    return intercept + slope * given_x\n",
    "\n",
    "# Here's an example of how fitted_value is used. The code below\n",
    "# computes the prediction for the bird weight, in grams, based on\n",
    "# an egg weight of 8 grams.\n",
    "egg_weight_eight = fitted_value(birds, \"Egg Weight\", \"Bird Weight\", 8)\n",
    "egg_weight_eight"
   ]
  },
  {
   "cell_type": "code",
   "execution_count": 26,
   "id": "cell-hw11-37",
   "metadata": {
    "deletable": false,
    "editable": false
   },
   "outputs": [
    {
     "data": {
      "text/html": [
       "<p><strong><pre style='display: inline;'>q2_1</pre></strong> passed! 🌈</p>"
      ],
      "text/plain": [
       "q2_1 results: All test cases passed!"
      ]
     },
     "execution_count": 26,
     "metadata": {},
     "output_type": "execute_result"
    }
   ],
   "source": [
    "grader.check(\"q2_1\")"
   ]
  },
  {
   "cell_type": "markdown",
   "id": "cell-hw11-38",
   "metadata": {
    "deletable": false,
    "editable": false
   },
   "source": [
    "**Question 2.2.** Raymond, the resident Snowy Plover expert at Point Reyes, tells us that the egg he has been carefully observing has a weight of 9 grams. Using `fitted_value` above, assign the variable `experts_egg` to the predicted bird weight for Raymond's egg. \n"
   ]
  },
  {
   "cell_type": "code",
   "execution_count": 29,
   "id": "cell-hw11-39",
   "metadata": {
    "ExecuteTime": {
     "end_time": "2018-04-11T12:05:54.430725Z",
     "start_time": "2018-04-11T12:05:54.424720Z"
    },
    "deletable": false,
    "tags": []
   },
   "outputs": [
    {
     "data": {
      "text/plain": [
       "6.4083658421088252"
      ]
     },
     "execution_count": 29,
     "metadata": {},
     "output_type": "execute_result"
    }
   ],
   "source": [
    "experts_egg = fitted_value(birds, \"Egg Weight\", \"Bird Weight\", 9)\n",
    "experts_egg"
   ]
  },
  {
   "cell_type": "code",
   "execution_count": 30,
   "id": "cell-hw11-40",
   "metadata": {
    "deletable": false,
    "editable": false
   },
   "outputs": [
    {
     "data": {
      "text/html": [
       "<p><strong><pre style='display: inline;'>q2_2</pre></strong> passed! 🎉</p>"
      ],
      "text/plain": [
       "q2_2 results: All test cases passed!"
      ]
     },
     "execution_count": 30,
     "metadata": {},
     "output_type": "execute_result"
    }
   ],
   "source": [
    "grader.check(\"q2_2\")"
   ]
  },
  {
   "cell_type": "code",
   "execution_count": 31,
   "id": "cell-hw11-41",
   "metadata": {
    "scrolled": true
   },
   "outputs": [
    {
     "data": {
      "text/plain": [
       "44"
      ]
     },
     "execution_count": 31,
     "metadata": {},
     "output_type": "execute_result"
    }
   ],
   "source": [
    "# Let's look at the number of rows in the birds table.\n",
    "birds.num_rows"
   ]
  },
  {
   "cell_type": "markdown",
   "id": "cell-hw11-42",
   "metadata": {},
   "source": [
    "A fellow parkgoer raises the following objection to your prediction:\n",
    "\n",
    "> \"Your prediction depends on your sample of 44 birds.  Wouldn't your prediction change if you had a different sample of 44 birds?\"\n",
    "\n",
    "Having read section [16.3](https://inferentialthinking.com/chapters/16/3/Prediction_Intervals.html) of the textbook, you know just the response! Had the sample been different, the regression line would have been different too. This would ultimately result in a different prediction. To see how good our prediction is, we must get a sense of how variable the prediction can be."
   ]
  },
  {
   "cell_type": "markdown",
   "id": "cell-hw11-43",
   "metadata": {
    "deletable": false,
    "editable": false
   },
   "source": [
    "**Question 2.3.** Define a function `compute_resampled_line` that takes in a table `tbl`and two column names, `x_col` and `y_col`, and returns an array containing the parameters of the best fit line (slope and intercept) for one bootstrapped resample of the table.\n"
   ]
  },
  {
   "cell_type": "code",
   "execution_count": 36,
   "id": "cell-hw11-44",
   "metadata": {
    "tags": []
   },
   "outputs": [],
   "source": [
    "def compute_resampled_line(tbl, x_col, y_col):\n",
    "    resample = tbl.sample(tbl.num_rows, True)\n",
    "    resampled_line = fit_line(resample, x_col, y_col)\n",
    "    return resampled_line"
   ]
  },
  {
   "cell_type": "code",
   "execution_count": 37,
   "id": "cell-hw11-45",
   "metadata": {
    "deletable": false,
    "editable": false
   },
   "outputs": [
    {
     "data": {
      "text/html": [
       "<p><strong><pre style='display: inline;'>q2_3</pre></strong> passed! 💯</p>"
      ],
      "text/plain": [
       "q2_3 results: All test cases passed!"
      ]
     },
     "execution_count": 37,
     "metadata": {},
     "output_type": "execute_result"
    }
   ],
   "source": [
    "grader.check(\"q2_3\")"
   ]
  },
  {
   "cell_type": "markdown",
   "id": "cell-hw11-46",
   "metadata": {},
   "source": [
    "**Run** the following cell below in order to define the function `bootstrap_lines`.  It takes in four arguments:\n",
    "1. `tbl`: a table like `birds`\n",
    "2. `x_col`: the name of our x-column within the input `tbl`\n",
    "3. `y_col`: the name of our y-column within the input `tbl`\n",
    "4. `num_bootstraps`: an integer, a number of bootstraps to run.\n",
    "\n",
    "It returns a *table* with one row for each bootstrap resample and the following two columns:\n",
    "1. `Slope`: the bootstrapped slopes \n",
    "2. `Intercept`: the corresponding bootstrapped intercepts "
   ]
  },
  {
   "cell_type": "code",
   "execution_count": 38,
   "id": "cell-hw11-47",
   "metadata": {
    "ExecuteTime": {
     "end_time": "2018-04-11T12:05:55.698074Z",
     "start_time": "2018-04-11T12:05:55.243866Z"
    },
    "for_assignment_type": "solution"
   },
   "outputs": [
    {
     "data": {
      "text/html": [
       "<table border=\"1\" class=\"dataframe\">\n",
       "    <thead>\n",
       "        <tr>\n",
       "            <th>Slope</th> <th>Intercept</th>\n",
       "        </tr>\n",
       "    </thead>\n",
       "    <tbody>\n",
       "        <tr>\n",
       "            <td>0.681647</td> <td>0.216873  </td>\n",
       "        </tr>\n",
       "        <tr>\n",
       "            <td>0.683123</td> <td>0.233287  </td>\n",
       "        </tr>\n",
       "        <tr>\n",
       "            <td>0.715407</td> <td>0.00718173</td>\n",
       "        </tr>\n",
       "        <tr>\n",
       "            <td>0.7529  </td> <td>-0.370476 </td>\n",
       "        </tr>\n",
       "        <tr>\n",
       "            <td>0.681917</td> <td>0.23882   </td>\n",
       "        </tr>\n",
       "        <tr>\n",
       "            <td>0.67558 </td> <td>0.319254  </td>\n",
       "        </tr>\n",
       "        <tr>\n",
       "            <td>0.714737</td> <td>0.00129346</td>\n",
       "        </tr>\n",
       "        <tr>\n",
       "            <td>0.739459</td> <td>-0.267003 </td>\n",
       "        </tr>\n",
       "        <tr>\n",
       "            <td>0.797471</td> <td>-0.706557 </td>\n",
       "        </tr>\n",
       "        <tr>\n",
       "            <td>0.724329</td> <td>-0.122423 </td>\n",
       "        </tr>\n",
       "    </tbody>\n",
       "</table>\n",
       "<p>... (990 rows omitted)</p>"
      ],
      "text/plain": [
       "Slope    | Intercept\n",
       "0.681647 | 0.216873\n",
       "0.683123 | 0.233287\n",
       "0.715407 | 0.00718173\n",
       "0.7529   | -0.370476\n",
       "0.681917 | 0.23882\n",
       "0.67558  | 0.319254\n",
       "0.714737 | 0.00129346\n",
       "0.739459 | -0.267003\n",
       "0.797471 | -0.706557\n",
       "0.724329 | -0.122423\n",
       "... (990 rows omitted)"
      ]
     },
     "execution_count": 38,
     "metadata": {},
     "output_type": "execute_result"
    }
   ],
   "source": [
    "# Just run this cell\n",
    "def bootstrap_lines(tbl, x_col, y_col, num_bootstraps):\n",
    "    resampled_slopes = make_array()\n",
    "    resampled_intercepts = make_array() \n",
    "    for i in np.arange(num_bootstraps): \n",
    "        resampled_line = compute_resampled_line(tbl, x_col, y_col) \n",
    "        resampled_slope = resampled_line.item(0) \n",
    "        resampled_intercept = resampled_line.item(1) \n",
    "        resampled_slopes = np.append(resampled_slopes,resampled_slope)\n",
    "        resampled_intercepts = np.append(resampled_intercepts,resampled_intercept)\n",
    "    tbl_lines = Table().with_columns('Slope', resampled_slopes, 'Intercept', resampled_intercepts)\n",
    "    return tbl_lines\n",
    "\n",
    "regression_lines = bootstrap_lines(birds, \"Egg Weight\", \"Bird Weight\", 1000)\n",
    "regression_lines"
   ]
  },
  {
   "cell_type": "markdown",
   "id": "cell-hw11-48",
   "metadata": {
    "deletable": false,
    "editable": false
   },
   "source": [
    "<!-- BEGIN QUESTION -->\n",
    "\n",
    "**Question 2.4.** Create an array called `predictions_for_eight` that contains the predicted bird weights based on an egg of weight 8 grams for each regression line in `regression_lines`. **(8 points)**\n"
   ]
  },
  {
   "cell_type": "code",
   "execution_count": 40,
   "id": "cell-hw11-49",
   "metadata": {
    "ExecuteTime": {
     "end_time": "2018-04-11T12:05:55.991855Z",
     "start_time": "2018-04-11T12:05:55.759236Z"
    },
    "deletable": false,
    "scrolled": true,
    "tags": []
   },
   "outputs": [
    {
     "data": {
      "image/png": "[encoded data removed]",
      "text/plain": [
       "<Figure size 600x400 with 1 Axes>"
      ]
     },
     "metadata": {},
     "output_type": "display_data"
    }
   ],
   "source": [
    "predictions_for_eight = regression_lines.column(\"Intercept\") + regression_lines.column(\"Slope\") * 8\n",
    "\n",
    "# This will make a histogram of your predictions:\n",
    "table_of_predictions = Table().with_column('Predictions at Egg Weight=8', predictions_for_eight)\n",
    "table_of_predictions.hist('Predictions at Egg Weight=8', bins=20)"
   ]
  },
  {
   "cell_type": "code",
   "execution_count": 41,
   "id": "cell-hw11-50",
   "metadata": {
    "deletable": false,
    "editable": false
   },
   "outputs": [
    {
     "data": {
      "text/html": [
       "<p><strong><pre style='display: inline;'>q2_4</pre></strong> passed! 🍀</p>"
      ],
      "text/plain": [
       "q2_4 results: All test cases passed!"
      ]
     },
     "execution_count": 41,
     "metadata": {},
     "output_type": "execute_result"
    }
   ],
   "source": [
    "grader.check(\"q2_4\")"
   ]
  },
  {
   "cell_type": "markdown",
   "id": "cell-hw11-51",
   "metadata": {
    "deletable": false,
    "editable": false
   },
   "source": [
    "<!-- END QUESTION -->\n",
    "\n",
    "**Question 2.5.** Create an approximate 95% confidence interval for these predictions. **(6 points)**\n"
   ]
  },
  {
   "cell_type": "code",
   "execution_count": 42,
   "id": "cell-hw11-52",
   "metadata": {
    "ExecuteTime": {
     "end_time": "2018-04-11T12:05:56.097136Z",
     "start_time": "2018-04-11T12:05:56.089117Z"
    },
    "deletable": false,
    "scrolled": true,
    "tags": []
   },
   "outputs": [
    {
     "name": "stdout",
     "output_type": "stream",
     "text": [
      "95% Confidence interval for predictions for x=8: ( 5.62669464729 , 5.76603349629 )\n"
     ]
    }
   ],
   "source": [
    "lower_bound = np.percentile(predictions_for_eight, 2.5)\n",
    "upper_bound = np.percentile(predictions_for_eight, 97.5)\n",
    "\n",
    "print('95% Confidence interval for predictions for x=8: (', lower_bound,\",\", upper_bound, ')')"
   ]
  },
  {
   "cell_type": "code",
   "execution_count": 43,
   "id": "cell-hw11-53",
   "metadata": {
    "deletable": false,
    "editable": false
   },
   "outputs": [
    {
     "data": {
      "text/html": [
       "<p><strong><pre style='display: inline;'>q2_5</pre></strong> passed! 💯</p>"
      ],
      "text/plain": [
       "q2_5 results: All test cases passed!"
      ]
     },
     "execution_count": 43,
     "metadata": {},
     "output_type": "execute_result"
    }
   ],
   "source": [
    "grader.check(\"q2_5\")"
   ]
  },
  {
   "cell_type": "markdown",
   "id": "cell-hw11-54",
   "metadata": {
    "deletable": false,
    "editable": false
   },
   "source": [
    "**Question 2.6.** Set `plover_statements` to an array of integer(s) that correspond to statement(s) that are true. **(6 points)**\n",
    "\n",
    "1. The 95% confidence interval covers 95% of the bird weights for eggs that had a weight of eight grams in `birds`.\n",
    "\n",
    "2. The 95% confidence interval gives a sense of how much actual weights differ from your prediction.\n",
    "\n",
    "3. The 95% confidence interval quantifies the uncertainty in our estimate of what the true line would predict.\n"
   ]
  },
  {
   "cell_type": "code",
   "execution_count": 48,
   "id": "cell-hw11-55",
   "metadata": {
    "ExecuteTime": {
     "end_time": "2018-04-11T12:05:56.479878Z",
     "start_time": "2018-04-11T12:05:56.476869Z"
    },
    "deletable": false,
    "tags": []
   },
   "outputs": [],
   "source": [
    "plover_statements = make_array(3)"
   ]
  },
  {
   "cell_type": "code",
   "execution_count": 49,
   "id": "cell-hw11-56",
   "metadata": {
    "deletable": false,
    "editable": false
   },
   "outputs": [
    {
     "data": {
      "text/html": [
       "<p><strong><pre style='display: inline;'>q2_6</pre></strong> passed! 💯</p>"
      ],
      "text/plain": [
       "q2_6 results: All test cases passed!"
      ]
     },
     "execution_count": 49,
     "metadata": {},
     "output_type": "execute_result"
    }
   ],
   "source": [
    "grader.check(\"q2_6\")"
   ]
  },
  {
   "cell_type": "markdown",
   "id": "cell-hw11-57",
   "metadata": {},
   "source": [
    "You're done with Homework 11!  \n",
    "\n",
    "**Important submission steps:** \n",
    "1. Run the tests and verify that they all pass.\n",
    "2. Choose **Save Notebook** from the **File** menu, then **run the final cell**. \n",
    "3. Click the link to download the zip file.\n",
    "4. Then submit the zip file to the corresponding assignment according to your instructor's directions. \n",
    "\n",
    "**It is your responsibility to make sure your work is saved before running the last cell.**"
   ]
  },
  {
   "cell_type": "markdown",
   "id": "cell-hw11-58",
   "metadata": {
    "deletable": false,
    "editable": false
   },
   "source": [
    "## Submission\n",
    "\n",
    "Make sure you have run all cells in your notebook in order before running the cell below, so that all images/graphs appear in the output. The cell below will generate a zip file for you to submit. **Please save before exporting!**"
   ]
  },
  {
   "cell_type": "code",
   "execution_count": 50,
   "id": "cell-hw11-59",
   "metadata": {
    "deletable": false,
    "editable": false
   },
   "outputs": [
    {
     "name": "stdout",
     "output_type": "stream",
     "text": [
      "Running your submission against local test cases...\n",
      "\n",
      "\n",
      "Your submission received the following results when run against available test cases:\n",
      "\n",
      "    q1_2 results: All test cases passed!\n",
      "\n",
      "    q1_3 results: All test cases passed!\n",
      "\n",
      "    q1_4 results: All test cases passed!\n",
      "\n",
      "    q1_5 results: All test cases passed!\n",
      "\n",
      "    q2_1 results: All test cases passed!\n",
      "\n",
      "    q2_2 results: All test cases passed!\n",
      "\n",
      "    q2_3 results: All test cases passed!\n",
      "\n",
      "    q2_4 results: All test cases passed!\n",
      "\n",
      "    q2_5 results: All test cases passed!\n",
      "\n",
      "    q2_6 results: All test cases passed!\n"
     ]
    },
    {
     "data": {
      "text/html": [
       "\n",
       "                    <p>\n",
       "                        Your submission has been exported. Click\n",
       "                        <a href=\"hw11_2025_04_21T20_42_51_931687.zip\" download=\"hw11_2025_04_21T20_42_51_931687.zip\" target=\"_blank\">here</a> to download\n",
       "                        the zip file.\n",
       "                    </p>\n",
       "                "
      ],
      "text/plain": [
       "<IPython.core.display.HTML object>"
      ]
     },
     "metadata": {},
     "output_type": "display_data"
    }
   ],
   "source": [
    "# Save your notebook first, then run this cell to export your submission.\n",
    "grader.export(pdf=False, run_tests=True)"
   ]
  },
  {
   "cell_type": "markdown",
   "id": "cell-hw11-60",
   "metadata": {},
   "source": [
    " "
   ]
  }
 ],
 "metadata": {
  "kernelspec": {
   "display_name": "base",
   "language": "python",
   "name": "python3"
  },
  "language_info": {
   "codemirror_mode": {
    "name": "ipython",
    "version": 3
   },
   "file_extension": ".py",
   "mimetype": "text/x-python",
   "name": "python",
   "nbconvert_exporter": "python",
   "pygments_lexer": "ipython3",
   "version": "3.12.3"
  },
  "otter": {
   "OK_FORMAT": true,
   "tests": {
    "q1_2": {
     "name": "q1_2",
     "points": [
      0
     ],
     "suites": [
      {
       "cases": [
        {
         "code": ">>> abs(correlation(Table().with_columns('a', np.random.normal(0, 1, 10), 'b', np.random.normal(0, 1, 10)), 'a', 'b')) <= 1\nTrue",
         "hidden": false,
         "locked": false
        }
       ],
       "scored": true,
       "setup": "",
       "teardown": "",
       "type": "doctest"
      }
     ]
    },
    "q1_3": {
     "name": "q1_3",
     "points": [
      0,
      0,
      2
     ],
     "suites": [
      {
       "cases": [
        {
         "code": ">>> type(fit_line(Table().with_columns('x', make_array(0, 1), 'y', make_array(1, 3)), 'x', 'y')) == np.ndarray\nTrue",
         "hidden": false,
         "locked": false
        },
        {
         "code": ">>> len(fit_line(Table().with_columns('x', make_array(0, 1), 'y', make_array(1, 3)), 'x', 'y')) == 2\nTrue",
         "hidden": false,
         "locked": false
        },
        {
         "code": ">>> np.allclose(np.round(fit_line(Table().with_columns('x', make_array(0, 1), 'y', make_array(1, 3)), 'x', 'y'), 5), np.array([2, 1]))\nTrue",
         "hidden": false,
         "locked": false
        }
       ],
       "scored": true,
       "setup": "",
       "teardown": "",
       "type": "doctest"
      }
     ]
    },
    "q1_4": {
     "name": "q1_4",
     "points": null,
     "suites": [
      {
       "cases": [
        {
         "code": ">>> len(resampled_slopes) == 1000\nTrue",
         "hidden": false,
         "locked": false
        }
       ],
       "scored": true,
       "setup": "",
       "teardown": "",
       "type": "doctest"
      }
     ]
    },
    "q1_5": {
     "name": "q1_5",
     "points": [
      0,
      0
     ],
     "suites": [
      {
       "cases": [
        {
         "code": ">>> lower_end > 0\nTrue",
         "hidden": false,
         "locked": false
        },
        {
         "code": ">>> upper_end < 4\nTrue",
         "hidden": false,
         "locked": false
        }
       ],
       "scored": true,
       "setup": "",
       "teardown": "",
       "type": "doctest"
      }
     ]
    },
    "q2_1": {
     "name": "q2_1",
     "points": [
      0
     ],
     "suites": [
      {
       "cases": [
        {
         "code": ">>> type(egg_weight_eight) in set([float, np.float32, np.float64])\nTrue",
         "hidden": false,
         "locked": false
        }
       ],
       "scored": true,
       "setup": "",
       "teardown": "",
       "type": "doctest"
      }
     ]
    },
    "q2_2": {
     "name": "q2_2",
     "points": [
      0
     ],
     "suites": [
      {
       "cases": [
        {
         "code": ">>> type(experts_egg) in set([float, np.float32, np.float64])\nTrue",
         "hidden": false,
         "locked": false
        }
       ],
       "scored": true,
       "setup": "",
       "teardown": "",
       "type": "doctest"
      }
     ]
    },
    "q2_3": {
     "name": "q2_3",
     "points": [
      0
     ],
     "suites": [
      {
       "cases": [
        {
         "code": ">>> len(compute_resampled_line(Table().with_columns('x', make_array(0, 1), 'y', make_array(1, 3)), 'x', 'y')) == 2\nTrue",
         "hidden": false,
         "locked": false
        }
       ],
       "scored": true,
       "setup": "",
       "teardown": "",
       "type": "doctest"
      }
     ]
    },
    "q2_4": {
     "name": "q2_4",
     "points": null,
     "suites": [
      {
       "cases": [
        {
         "code": ">>> len(predictions_for_eight) == regression_lines.num_rows\nTrue",
         "hidden": false,
         "locked": false
        }
       ],
       "scored": true,
       "setup": "",
       "teardown": "",
       "type": "doctest"
      }
     ]
    },
    "q2_5": {
     "name": "q2_5",
     "points": [
      0,
      0
     ],
     "suites": [
      {
       "cases": [
        {
         "code": ">>> lower_bound > 5\nTrue",
         "hidden": false,
         "locked": false
        },
        {
         "code": ">>> upper_bound < 6.5\nTrue",
         "hidden": false,
         "locked": false
        }
       ],
       "scored": true,
       "setup": "",
       "teardown": "",
       "type": "doctest"
      }
     ]
    },
    "q2_6": {
     "name": "q2_6",
     "points": [
      0
     ],
     "suites": [
      {
       "cases": [
        {
         "code": ">>> type(plover_statements) == np.ndarray\nTrue",
         "hidden": false,
         "locked": false
        }
       ],
       "scored": true,
       "setup": "",
       "teardown": "",
       "type": "doctest"
      }
     ]
    }
   }
  }
 },
 "nbformat": 4,
 "nbformat_minor": 5
}
